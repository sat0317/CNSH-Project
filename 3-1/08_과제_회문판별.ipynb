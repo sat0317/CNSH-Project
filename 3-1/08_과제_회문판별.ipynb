{
  "cells": [
    {
      "cell_type": "code",
      "execution_count": null,
      "id": "e7a0ce64",
      "metadata": {
        "id": "e7a0ce64",
        "outputId": "04d509be-0dc3-4f6c-9e0c-49f5df92de3f"
      },
      "outputs": [
        {
          "name": "stdout",
          "output_type": "stream",
          "text": [
            "asdfdsa\n",
            "회문임\n"
          ]
        }
      ],
      "source": [
        "a=input().replace(' ', '').replace('\\n', '').replace('\\t', '').replace('.', '').replace(',', '')\n",
        "check=False\n",
        "for i in range(len(a)//2+len(a)%2):\n",
        "    if a[i]!=a[len(a)-i-1]:\n",
        "        check=True\n",
        "        break\n",
        "\n",
        "if check:\n",
        "    print(\"회문이 아님\")\n",
        "else:\n",
        "    print(\"회문임\")"
      ]
    },
    {
      "cell_type": "code",
      "execution_count": null,
      "id": "e5368909",
      "metadata": {
        "id": "e5368909"
      },
      "outputs": [],
      "source": [
        ""
      ]
    }
  ],
  "metadata": {
    "kernelspec": {
      "display_name": "Python 3",
      "language": "python",
      "name": "python3"
    },
    "language_info": {
      "codemirror_mode": {
        "name": "ipython",
        "version": 3
      },
      "file_extension": ".py",
      "mimetype": "text/x-python",
      "name": "python",
      "nbconvert_exporter": "python",
      "pygments_lexer": "ipython3",
      "version": "3.8.8"
    },
    "colab": {
      "name": "08-과제-회문판별.ipynb",
      "provenance": []
    }
  },
  "nbformat": 4,
  "nbformat_minor": 5
}