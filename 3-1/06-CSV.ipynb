{
 "cells": [
  {
   "cell_type": "markdown",
   "id": "f14f3768",
   "metadata": {},
   "source": [
    "# CSV 파일 다루기 \n",
    "쉼표로 구분된 텍스트 파일<br><br>\n",
    "\n",
    "# 절차: 파일 열기 -> 파일 읽기 -> 헤더 제거 -> 리스트 변환\n",
    "열기: Open()으로 파일 열기<br>\n",
    "읽기: csv.reader()에서 파일 저장한 변수 넣기<br>\n",
    "헤더제거: next()으로 행 건너뛰기<br>\n",
    "리스트 변환: list()<br>"
   ]
  },
  {
   "cell_type": "code",
   "execution_count": 12,
   "id": "5831ba72",
   "metadata": {},
   "outputs": [
    {
     "name": "stdout",
     "output_type": "stream",
     "text": [
      "('\\ufeff1', '미국', '46', '37', '38', '121')\n",
      "('2', '영국', '27', '23', '17', '67')\n",
      "('3', '중국', '26', '18', '26', '70')\n",
      "('4', '러시아', '19', '18', '19', '55')\n",
      "('5', '독일', '17', '10', '15', '42')\n",
      "('6', '일본', '12', '8', '21', '41')\n",
      "('7', '프랑스', '10', '18', '14', '42')\n",
      "('8', '대한민국', '9', '3', '9', '21')\n"
     ]
    }
   ],
   "source": [
    "import csv\n",
    "with open('olympic.csv', newline='', encoding='UTF8') as f:\n",
    "    reader = csv.reader(f)\n",
    "    data=[tuple(row) for row in reader]\n",
    "for i in data:\n",
    "    print(i)\n",
    "f.close()"
   ]
  },
  {
   "cell_type": "code",
   "execution_count": 13,
   "id": "3932ee13",
   "metadata": {},
   "outputs": [
    {
     "name": "stdout",
     "output_type": "stream",
     "text": [
      "('1', '미국', '46', '37', '38', '121')\n",
      "('2', '영국', '27', '23', '17', '67')\n",
      "('3', '중국', '26', '18', '26', '70')\n",
      "('4', '러시아', '19', '18', '19', '55')\n",
      "('5', '독일', '17', '10', '15', '42')\n",
      "('6', '일본', '12', '8', '21', '41')\n",
      "('7', '프랑스', '10', '18', '14', '42')\n",
      "('8', '대한민국', '9', '3', '9', '21')\n"
     ]
    }
   ],
   "source": [
    "import csv\n",
    "with open('olympic.csv', newline='', encoding='UTF-8-sig') as f:\n",
    "    reader = csv.reader(f)\n",
    "    data=[tuple(row) for row in reader]\n",
    "for i in data:\n",
    "    print(i)\n",
    "f.close()"
   ]
  },
  {
   "cell_type": "code",
   "execution_count": null,
   "id": "584027e5",
   "metadata": {},
   "outputs": [],
   "source": []
  }
 ],
 "metadata": {
  "kernelspec": {
   "display_name": "Python 3",
   "language": "python",
   "name": "python3"
  },
  "language_info": {
   "codemirror_mode": {
    "name": "ipython",
    "version": 3
   },
   "file_extension": ".py",
   "mimetype": "text/x-python",
   "name": "python",
   "nbconvert_exporter": "python",
   "pygments_lexer": "ipython3",
   "version": "3.8.8"
  }
 },
 "nbformat": 4,
 "nbformat_minor": 5
}
