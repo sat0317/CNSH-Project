{
 "cells": [
  {
   "cell_type": "code",
   "execution_count": 5,
   "metadata": {},
   "outputs": [],
   "source": [
    "from itertools import permutations as P\n",
    "from itertools import combinations as C\n",
    "from itertools import product as PR\n",
    "from itertools import combinations_with_replacement as H\n",
    "from fractions import Fraction as frac"
   ]
  },
  {
   "cell_type": "code",
   "execution_count": 7,
   "metadata": {},
   "outputs": [
    {
     "name": "stdout",
     "output_type": "stream",
     "text": [
      "7\n",
      "25/42\n"
     ]
    }
   ],
   "source": [
    "#9월 모고 17번\n",
    "\n",
    "a=['ma', 'mb', 'sa', 'sb', 'sc', 'sd', 'se']\n",
    "b=list(P(a))\n",
    "ans=[]\n",
    "for i in b:\n",
    "    if i.index('ma')<i.index('mb') or abs(i.index('ma')-i.index('mb'))==3:\n",
    "        ans.append(i)\n",
    "print(len(i))\n",
    "print(frac(len(ans), len(b)))"
   ]
  },
  {
   "cell_type": "code",
   "execution_count": 20,
   "metadata": {},
   "outputs": [
    {
     "name": "stdout",
     "output_type": "stream",
     "text": [
      "2/91\n"
     ]
    }
   ],
   "source": [
    "#9월 모고 19번\n",
    "\n",
    "X=[1, 2, 3, 4]\n",
    "x=[]\n",
    "for i in range(1, 5):\n",
    "    x.extend(list(C(X, i)))\n",
    "a=list(P(x, 3))\n",
    "ans=[]\n",
    "for i in a:\n",
    "    if all((j in i[1] for j in i[0])) and all((j in i[2] for j in i[1])):\n",
    "        ans.append(i)\n",
    "print(frac(len(ans), len(a)))"
   ]
  },
  {
   "cell_type": "code",
   "execution_count": 21,
   "metadata": {},
   "outputs": [
    {
     "name": "stdout",
     "output_type": "stream",
     "text": [
      "168\n"
     ]
    }
   ],
   "source": [
    "#9월 모고 29번\n",
    "\n",
    "w=['wa', 'wb', 'wc']\n",
    "b=['ba', 'bb', 'bc']\n",
    "wpw=list(H(w, 4))\n",
    "bpb=list(H(b, 6))\n",
    "al=list(PR(wpw, bpb))\n",
    "als=[i[0]+i[1] for i in al]\n",
    "\n",
    "ans=[i for i in als if [j[1] for j in i].count('a') > 1 and [j[1] for j in i].count('b') > 1 and [j[1] for j in i].count('c') > 1 ]\n",
    "print(len(ans))"
   ]
  },
  {
   "cell_type": "code",
   "execution_count": 29,
   "metadata": {},
   "outputs": [
    {
     "name": "stdout",
     "output_type": "stream",
     "text": [
      "60480\n",
      "1/6\n"
     ]
    }
   ],
   "source": [
    "#수능 9번\n",
    "\n",
    "x=['a', 'b', 'c', 'd', 'e', 1, 2, 3, 4]\n",
    "a=list(P(x))\n",
    "ans=[i for i in a if (i.index('a')-1>=0 and type(i[i.index('a')-1])==int) and (i.index('a')+1<len(i) and type(i[i.index('a')+1])==int)]\n",
    "print(len(ans))\n",
    "print(frac(len(ans), len(a)))"
   ]
  },
  {
   "cell_type": "code",
   "execution_count": 41,
   "metadata": {},
   "outputs": [
    {
     "name": "stdout",
     "output_type": "stream",
     "text": [
      "201\n",
      "[(1, 1, 1, 1, 2, 4, 5, 5, 7, 7, 8, 8), (1, 1, 1, 1, 4, 4, 5, 6, 6, 7, 7, 8), (1, 1, 1, 1, 1, 2, 5, 7, 8, 8, 8, 8), (1, 1, 1, 1, 1, 2, 5, 7, 7, 8, 8, 8), (1, 1, 1, 1, 2, 3, 7, 7, 7, 7, 7, 8), (1, 1, 1, 1, 2, 2, 7, 7, 7, 7, 7, 8), (1, 1, 1, 1, 4, 4, 5, 6, 6, 7, 7, 7), (1, 1, 1, 1, 3, 3, 5, 5, 6, 6, 8, 8), (1, 1, 1, 1, 1, 2, 5, 5, 5, 7, 7, 8), (1, 1, 1, 1, 3, 4, 6, 6, 6, 6, 6, 8), (1, 1, 1, 1, 2, 3, 5, 7, 8, 8, 8, 8), (1, 1, 1, 1, 2, 2, 6, 7, 8, 8, 8, 8), (1, 1, 1, 1, 2, 3, 5, 7, 7, 8, 8, 8), (1, 1, 1, 1, 2, 3, 6, 8, 8, 8, 8, 8), (1, 1, 1, 1, 1, 2, 5, 5, 7, 7, 8, 8), (1, 1, 1, 1, 2, 4, 5, 5, 7, 8, 8, 8), (1, 1, 1, 1, 3, 4, 5, 5, 6, 8, 8, 8), (1, 1, 1, 1, 3, 4, 6, 6, 6, 6, 6, 7), (1, 1, 1, 1, 1, 3, 5, 6, 6, 8, 8, 8), (1, 1, 1, 1, 2, 3, 5, 5, 5, 6, 6, 8), (1, 1, 1, 1, 1, 3, 5, 5, 6, 6, 6, 8), (1, 1, 1, 1, 2, 4, 5, 5, 6, 7, 7, 7), (1, 1, 1, 1, 2, 2, 6, 7, 7, 8, 8, 8), (1, 1, 1, 1, 3, 3, 5, 5, 5, 6, 6, 8), (1, 1, 1, 1, 3, 4, 5, 5, 6, 6, 8, 8), (1, 1, 1, 1, 3, 4, 5, 6, 7, 7, 7, 7), (1, 1, 1, 1, 2, 2, 5, 5, 6, 7, 8, 8), (1, 1, 1, 1, 2, 3, 5, 5, 7, 7, 7, 8), (1, 1, 1, 1, 2, 2, 5, 5, 7, 7, 7, 8), (1, 1, 1, 1, 2, 2, 5, 7, 7, 7, 7, 8), (1, 1, 1, 1, 3, 3, 5, 6, 8, 8, 8, 8), (1, 1, 1, 1, 3, 4, 5, 5, 6, 6, 6, 7), (1, 1, 1, 1, 2, 4, 5, 7, 7, 7, 8, 8), (1, 1, 1, 1, 1, 3, 5, 6, 6, 6, 6, 8), (1, 1, 1, 1, 4, 4, 5, 6, 7, 7, 7, 8), (1, 1, 1, 1, 3, 4, 5, 5, 6, 6, 7, 7), (1, 1, 1, 1, 3, 3, 5, 5, 6, 7, 8, 8), (1, 1, 1, 1, 3, 3, 6, 6, 6, 8, 8, 8), (1, 1, 1, 1, 2, 2, 5, 5, 6, 7, 7, 8), (1, 1, 1, 1, 3, 4, 5, 5, 5, 6, 6, 8), (1, 1, 1, 1, 1, 4, 5, 6, 7, 7, 7, 7), (1, 1, 1, 1, 1, 3, 6, 6, 6, 6, 8, 8), (1, 1, 1, 1, 4, 4, 5, 5, 6, 6, 7, 8), (1, 1, 1, 1, 1, 2, 5, 7, 7, 7, 8, 8), (1, 1, 1, 1, 1, 4, 6, 6, 6, 6, 7, 7), (1, 1, 1, 1, 3, 4, 6, 7, 7, 7, 7, 7), (1, 1, 1, 1, 3, 4, 5, 6, 8, 8, 8, 8), (1, 1, 1, 1, 3, 3, 6, 6, 6, 7, 8, 8), (1, 1, 1, 1, 1, 3, 5, 5, 5, 5, 6, 8), (1, 1, 1, 1, 3, 4, 5, 6, 6, 6, 6, 7), (1, 1, 1, 1, 3, 3, 5, 5, 5, 6, 8, 8), (1, 1, 1, 1, 2, 3, 6, 6, 8, 8, 8, 8), (1, 1, 1, 1, 4, 4, 6, 7, 7, 7, 7, 8), (1, 1, 1, 1, 3, 4, 6, 6, 7, 7, 7, 7), (1, 1, 1, 1, 3, 4, 6, 6, 6, 8, 8, 8), (1, 1, 1, 1, 3, 4, 5, 6, 6, 6, 7, 7), (1, 1, 1, 1, 1, 3, 6, 8, 8, 8, 8, 8), (1, 1, 1, 1, 3, 3, 5, 6, 7, 8, 8, 8), (1, 1, 1, 1, 4, 4, 6, 6, 7, 7, 7, 8), (1, 1, 1, 1, 2, 4, 6, 6, 6, 6, 6, 7), (1, 1, 1, 1, 2, 2, 7, 7, 7, 7, 8, 8), (1, 1, 1, 1, 4, 4, 5, 6, 6, 6, 6, 7), (1, 1, 1, 1, 3, 3, 5, 6, 6, 6, 8, 8), (1, 1, 1, 1, 4, 4, 5, 6, 6, 6, 7, 8), (1, 1, 1, 1, 3, 4, 5, 5, 5, 6, 7, 7), (1, 1, 1, 1, 3, 4, 5, 5, 5, 6, 8, 8), (1, 1, 1, 1, 2, 3, 7, 7, 7, 8, 8, 8), (1, 1, 1, 1, 2, 2, 7, 7, 7, 8, 8, 8), (1, 1, 1, 1, 4, 4, 5, 5, 5, 6, 7, 8), (1, 1, 1, 1, 4, 4, 6, 6, 6, 6, 7, 8), (1, 1, 1, 1, 2, 3, 6, 6, 6, 6, 6, 8), (1, 1, 1, 1, 2, 4, 7, 7, 7, 7, 7, 8), (1, 1, 1, 1, 2, 2, 5, 5, 5, 7, 8, 8), (1, 1, 1, 1, 2, 4, 5, 6, 7, 7, 7, 7), (1, 1, 1, 1, 4, 4, 5, 5, 5, 6, 7, 7), (1, 1, 1, 1, 3, 4, 5, 5, 5, 6, 6, 7), (1, 1, 1, 1, 4, 4, 6, 6, 6, 6, 7, 7), (1, 1, 1, 1, 3, 4, 6, 6, 6, 7, 7, 7), (1, 1, 1, 1, 1, 4, 5, 5, 6, 7, 7, 7), (1, 1, 1, 1, 2, 3, 5, 5, 6, 8, 8, 8), (1, 1, 1, 1, 3, 4, 5, 6, 6, 6, 8, 8), (1, 1, 1, 1, 2, 4, 5, 5, 6, 6, 6, 7), (1, 1, 1, 1, 2, 4, 5, 5, 6, 6, 7, 7), (1, 1, 1, 1, 2, 2, 6, 7, 7, 7, 8, 8), (1, 1, 1, 1, 4, 4, 5, 5, 5, 6, 6, 7), (1, 1, 1, 1, 2, 3, 7, 7, 8, 8, 8, 8), (1, 1, 1, 1, 2, 2, 7, 7, 8, 8, 8, 8), (1, 1, 1, 1, 2, 3, 5, 5, 6, 6, 8, 8), (1, 1, 1, 1, 2, 2, 5, 6, 7, 7, 7, 8), (1, 1, 1, 1, 2, 4, 6, 7, 7, 7, 7, 7), (1, 1, 1, 1, 2, 2, 5, 6, 7, 7, 8, 8), (1, 1, 1, 1, 3, 3, 5, 6, 6, 8, 8, 8), (1, 1, 1, 1, 1, 3, 6, 6, 8, 8, 8, 8), (1, 1, 1, 1, 1, 4, 5, 6, 6, 7, 7, 7), (1, 1, 1, 1, 2, 4, 6, 6, 7, 7, 7, 7), (1, 1, 1, 1, 2, 4, 5, 5, 7, 7, 7, 8), (1, 1, 1, 1, 2, 4, 5, 7, 7, 7, 7, 8), (1, 1, 1, 1, 2, 4, 5, 6, 6, 6, 7, 7), (1, 1, 1, 1, 3, 3, 5, 5, 6, 6, 6, 8), (1, 1, 1, 1, 3, 3, 6, 6, 7, 8, 8, 8), (1, 1, 1, 1, 4, 4, 5, 5, 6, 7, 7, 7), (1, 1, 1, 1, 3, 3, 5, 5, 6, 6, 7, 8), (1, 1, 1, 1, 2, 2, 6, 7, 7, 7, 7, 8), (1, 1, 1, 1, 1, 2, 5, 5, 7, 7, 7, 8), (1, 1, 1, 1, 2, 3, 5, 6, 6, 6, 6, 8), (1, 1, 1, 1, 1, 2, 5, 7, 7, 7, 7, 8), (1, 1, 1, 1, 2, 3, 5, 6, 8, 8, 8, 8), (1, 1, 1, 1, 3, 4, 5, 6, 6, 8, 8, 8), (1, 1, 1, 1, 1, 4, 6, 6, 6, 6, 6, 7), (1, 1, 1, 1, 2, 4, 7, 8, 8, 8, 8, 8), (1, 1, 1, 1, 2, 3, 6, 6, 6, 8, 8, 8), (1, 1, 1, 1, 3, 4, 5, 5, 6, 6, 6, 8), (1, 1, 1, 1, 1, 3, 6, 6, 6, 6, 6, 8), (1, 1, 1, 1, 3, 3, 5, 6, 6, 6, 6, 8), (1, 1, 1, 1, 2, 3, 5, 7, 7, 7, 7, 8), (1, 1, 1, 1, 2, 4, 6, 6, 6, 7, 7, 7), (1, 1, 1, 1, 1, 3, 5, 5, 6, 8, 8, 8), (1, 1, 1, 1, 3, 3, 5, 6, 6, 6, 7, 8), (1, 1, 1, 1, 3, 3, 6, 6, 6, 6, 8, 8), (1, 1, 1, 1, 1, 2, 7, 8, 8, 8, 8, 8), (1, 1, 1, 1, 2, 2, 5, 5, 5, 6, 7, 8), (1, 1, 1, 1, 2, 4, 7, 7, 7, 7, 8, 8), (1, 1, 1, 1, 2, 4, 5, 6, 6, 7, 7, 7), (1, 1, 1, 1, 2, 3, 5, 5, 5, 6, 8, 8), (1, 1, 1, 1, 2, 2, 5, 7, 8, 8, 8, 8), (1, 1, 1, 1, 2, 2, 5, 7, 7, 8, 8, 8), (1, 1, 1, 1, 1, 4, 5, 5, 6, 6, 6, 7), (1, 1, 1, 1, 1, 3, 5, 5, 6, 6, 8, 8), (1, 1, 1, 1, 2, 3, 7, 8, 8, 8, 8, 8), (1, 1, 1, 1, 3, 3, 5, 5, 5, 6, 7, 8), (1, 1, 1, 1, 2, 2, 7, 8, 8, 8, 8, 8), (1, 1, 1, 1, 3, 4, 5, 6, 6, 6, 6, 8), (1, 1, 1, 1, 3, 3, 6, 6, 6, 6, 7, 8), (1, 1, 1, 1, 2, 2, 5, 6, 7, 8, 8, 8), (1, 1, 1, 1, 1, 4, 5, 5, 6, 6, 7, 7), (1, 1, 1, 1, 2, 3, 5, 5, 5, 7, 7, 8), (1, 1, 1, 1, 2, 2, 5, 5, 5, 7, 7, 8), (1, 1, 1, 1, 1, 2, 7, 7, 7, 7, 8, 8), (1, 1, 1, 1, 2, 4, 7, 7, 7, 8, 8, 8), (1, 1, 1, 1, 3, 3, 6, 7, 8, 8, 8, 8), (1, 1, 1, 1, 1, 2, 5, 5, 5, 5, 7, 8), (1, 1, 1, 1, 3, 3, 6, 8, 8, 8, 8, 8), (1, 1, 1, 1, 2, 3, 5, 6, 6, 6, 8, 8), (1, 1, 1, 1, 2, 3, 5, 5, 7, 7, 8, 8), (1, 1, 1, 1, 2, 2, 5, 5, 7, 7, 8, 8), (1, 1, 1, 1, 2, 4, 5, 5, 5, 7, 8, 8), (1, 1, 1, 1, 3, 4, 6, 6, 6, 6, 8, 8), (1, 1, 1, 1, 4, 4, 6, 6, 6, 6, 6, 7), (1, 1, 1, 1, 1, 2, 5, 5, 7, 8, 8, 8), (1, 1, 1, 1, 2, 3, 7, 7, 7, 7, 8, 8), (1, 1, 1, 1, 1, 4, 6, 7, 7, 7, 7, 7), (1, 1, 1, 1, 1, 3, 5, 5, 5, 6, 6, 8), (1, 1, 1, 1, 1, 2, 7, 7, 7, 8, 8, 8), (1, 1, 1, 1, 1, 4, 5, 6, 6, 6, 6, 7), (1, 1, 1, 1, 2, 4, 7, 7, 8, 8, 8, 8), (1, 1, 1, 1, 2, 3, 5, 5, 7, 8, 8, 8), (1, 1, 1, 1, 2, 2, 5, 5, 7, 8, 8, 8), (1, 1, 1, 1, 1, 2, 5, 5, 5, 7, 8, 8), (1, 1, 1, 1, 1, 4, 6, 6, 7, 7, 7, 7), (1, 1, 1, 1, 3, 4, 6, 6, 6, 6, 7, 7), (1, 1, 1, 1, 3, 4, 6, 8, 8, 8, 8, 8), (1, 1, 1, 1, 1, 4, 5, 6, 6, 6, 7, 7), (1, 1, 1, 1, 1, 3, 5, 6, 8, 8, 8, 8), (1, 1, 1, 1, 4, 4, 5, 6, 7, 7, 7, 7), (1, 1, 1, 1, 2, 3, 5, 5, 5, 7, 8, 8), (1, 1, 1, 1, 4, 4, 5, 5, 6, 6, 6, 7), (1, 1, 1, 1, 1, 3, 6, 6, 6, 8, 8, 8), (1, 1, 1, 1, 1, 2, 7, 7, 8, 8, 8, 8), (1, 1, 1, 1, 4, 4, 5, 5, 6, 6, 7, 7), (1, 1, 1, 1, 1, 4, 5, 5, 5, 6, 7, 7), (1, 1, 1, 1, 1, 4, 5, 5, 5, 5, 6, 7), (1, 1, 1, 1, 4, 4, 6, 6, 6, 7, 7, 8), (1, 1, 1, 1, 2, 3, 5, 7, 7, 7, 8, 8), (1, 1, 1, 1, 2, 2, 5, 7, 7, 7, 8, 8), (1, 1, 1, 1, 1, 4, 5, 5, 5, 6, 6, 7), (1, 1, 1, 1, 3, 3, 5, 6, 6, 7, 8, 8), (1, 1, 1, 1, 4, 4, 6, 7, 7, 7, 7, 7), (1, 1, 1, 1, 1, 4, 6, 6, 6, 7, 7, 7), (1, 1, 1, 1, 1, 3, 5, 5, 5, 6, 8, 8), (1, 1, 1, 1, 2, 3, 5, 6, 6, 8, 8, 8), (1, 1, 1, 1, 3, 3, 6, 6, 8, 8, 8, 8), (1, 1, 1, 1, 2, 3, 5, 5, 6, 6, 6, 8), (1, 1, 1, 1, 4, 4, 6, 6, 7, 7, 7, 7), (1, 1, 1, 1, 2, 4, 5, 6, 6, 6, 6, 7), (1, 1, 1, 1, 3, 4, 5, 5, 6, 7, 7, 7), (1, 1, 1, 1, 4, 4, 5, 6, 6, 6, 7, 7), (1, 1, 1, 1, 1, 3, 5, 6, 6, 6, 8, 8), (1, 1, 1, 1, 4, 4, 5, 5, 6, 7, 7, 8), (1, 1, 1, 1, 3, 4, 6, 6, 8, 8, 8, 8), (1, 1, 1, 1, 2, 4, 5, 5, 5, 6, 7, 7), (1, 1, 1, 1, 2, 4, 5, 7, 8, 8, 8, 8), (1, 1, 1, 1, 2, 4, 6, 6, 6, 6, 7, 7), (1, 1, 1, 1, 2, 4, 5, 7, 7, 8, 8, 8), (1, 1, 1, 1, 3, 3, 6, 6, 6, 6, 6, 8), (1, 1, 1, 1, 4, 4, 6, 6, 6, 7, 7, 7), (1, 1, 1, 1, 3, 3, 5, 5, 6, 8, 8, 8), (1, 1, 1, 1, 1, 2, 7, 7, 7, 7, 7, 8), (1, 1, 1, 1, 2, 3, 6, 6, 6, 6, 8, 8), (1, 1, 1, 1, 2, 4, 5, 5, 5, 7, 7, 8), (1, 1, 1, 1, 3, 4, 5, 6, 6, 7, 7, 7), (1, 1, 1, 1, 2, 4, 5, 5, 5, 6, 6, 7)]\n"
     ]
    }
   ],
   "source": [
    "#수능 29번\n",
    "\n",
    "b=[1, 2, 3, 4]\n",
    "w=[5, 6, 7, 8]\n",
    "bpb=list(H(b, 6))\n",
    "wpw=list(H(w, 6))\n",
    "al=set(list(PR(bpb, wpw)))\n",
    "als=[i[0]+i[1] for i in al]\n",
    "ans=[]\n",
    "for i in range(len(als)):\n",
    "    if als[i].count(1)>=4 and als[i].count(5)<als[i].count(1):\n",
    "        if all(als[i].count(j)+als[i].count(j+4)>0 for j in range(2, 5)):\n",
    "            for j in range(0, 3):\n",
    "                if als[i].count(j+2)>als[i].count(j+6):\n",
    "                    if als[i].count((j+1)%3+2)<=als[i].count((j+1)%3+6):\n",
    "                        if als[i].count((j+2)%3+2)<=als[i].count((j+2)%3+6):\n",
    "                            ans.append(als[i])\n",
    "                            break\n",
    "print(len(ans))\n",
    "print(ans)"
   ]
  },
  {
   "cell_type": "code",
   "execution_count": 47,
   "metadata": {},
   "outputs": [
    {
     "name": "stdout",
     "output_type": "stream",
     "text": [
      "7/60\n"
     ]
    }
   ],
   "source": [
    "x=[1, 2, 3, 4, 5, 6, 7]\n",
    "ast=list(P(x))\n",
    "ans=[]\n",
    "for i in ast:\n",
    "    a=i.index(4)\n",
    "    if a==0 or a==len(i):\n",
    "        continue\n",
    "    if a>0 and i[a-1]<4:\n",
    "        continue\n",
    "    if a<len(i)-1 and i[a+1]<4:\n",
    "        continue\n",
    "    a=i.index(5)\n",
    "    if a==0 or a==len(i):\n",
    "        continue\n",
    "    if a>0 and i[a-1]>5:\n",
    "        continue\n",
    "    if a<len(i)-1 and i[a+1]>5:\n",
    "        continue\n",
    "    ans.append(i)\n",
    "print(frac(len(ans), len(ast)))"
   ]
  },
  {
   "cell_type": "code",
   "execution_count": 55,
   "metadata": {},
   "outputs": [
    {
     "name": "stdout",
     "output_type": "stream",
     "text": [
      "201\n",
      "[('ab', 'ab', 'ab', 'ab', 'ab', 'bb', 'aw', 'aw', 'aw', 'aw', 'cw', 'dw'), ('ab', 'ab', 'ab', 'ab', 'ab', 'bb', 'aw', 'aw', 'aw', 'cw', 'cw', 'dw'), ('ab', 'ab', 'ab', 'ab', 'ab', 'bb', 'aw', 'aw', 'aw', 'cw', 'dw', 'dw'), ('ab', 'ab', 'ab', 'ab', 'ab', 'bb', 'aw', 'aw', 'cw', 'cw', 'cw', 'dw'), ('ab', 'ab', 'ab', 'ab', 'ab', 'bb', 'aw', 'aw', 'cw', 'cw', 'dw', 'dw'), ('ab', 'ab', 'ab', 'ab', 'ab', 'bb', 'aw', 'aw', 'cw', 'dw', 'dw', 'dw'), ('ab', 'ab', 'ab', 'ab', 'ab', 'bb', 'aw', 'cw', 'cw', 'cw', 'cw', 'dw'), ('ab', 'ab', 'ab', 'ab', 'ab', 'bb', 'aw', 'cw', 'cw', 'cw', 'dw', 'dw'), ('ab', 'ab', 'ab', 'ab', 'ab', 'bb', 'aw', 'cw', 'cw', 'dw', 'dw', 'dw'), ('ab', 'ab', 'ab', 'ab', 'ab', 'bb', 'aw', 'cw', 'dw', 'dw', 'dw', 'dw'), ('ab', 'ab', 'ab', 'ab', 'ab', 'bb', 'cw', 'cw', 'cw', 'cw', 'cw', 'dw'), ('ab', 'ab', 'ab', 'ab', 'ab', 'bb', 'cw', 'cw', 'cw', 'cw', 'dw', 'dw'), ('ab', 'ab', 'ab', 'ab', 'ab', 'bb', 'cw', 'cw', 'cw', 'dw', 'dw', 'dw'), ('ab', 'ab', 'ab', 'ab', 'ab', 'bb', 'cw', 'cw', 'dw', 'dw', 'dw', 'dw'), ('ab', 'ab', 'ab', 'ab', 'ab', 'bb', 'cw', 'dw', 'dw', 'dw', 'dw', 'dw'), ('ab', 'ab', 'ab', 'ab', 'ab', 'cb', 'aw', 'aw', 'aw', 'aw', 'bw', 'dw'), ('ab', 'ab', 'ab', 'ab', 'ab', 'cb', 'aw', 'aw', 'aw', 'bw', 'bw', 'dw'), ('ab', 'ab', 'ab', 'ab', 'ab', 'cb', 'aw', 'aw', 'aw', 'bw', 'dw', 'dw'), ('ab', 'ab', 'ab', 'ab', 'ab', 'cb', 'aw', 'aw', 'bw', 'bw', 'bw', 'dw'), ('ab', 'ab', 'ab', 'ab', 'ab', 'cb', 'aw', 'aw', 'bw', 'bw', 'dw', 'dw'), ('ab', 'ab', 'ab', 'ab', 'ab', 'cb', 'aw', 'aw', 'bw', 'dw', 'dw', 'dw'), ('ab', 'ab', 'ab', 'ab', 'ab', 'cb', 'aw', 'bw', 'bw', 'bw', 'bw', 'dw'), ('ab', 'ab', 'ab', 'ab', 'ab', 'cb', 'aw', 'bw', 'bw', 'bw', 'dw', 'dw'), ('ab', 'ab', 'ab', 'ab', 'ab', 'cb', 'aw', 'bw', 'bw', 'dw', 'dw', 'dw'), ('ab', 'ab', 'ab', 'ab', 'ab', 'cb', 'aw', 'bw', 'dw', 'dw', 'dw', 'dw'), ('ab', 'ab', 'ab', 'ab', 'ab', 'cb', 'bw', 'bw', 'bw', 'bw', 'bw', 'dw'), ('ab', 'ab', 'ab', 'ab', 'ab', 'cb', 'bw', 'bw', 'bw', 'bw', 'dw', 'dw'), ('ab', 'ab', 'ab', 'ab', 'ab', 'cb', 'bw', 'bw', 'bw', 'dw', 'dw', 'dw'), ('ab', 'ab', 'ab', 'ab', 'ab', 'cb', 'bw', 'bw', 'dw', 'dw', 'dw', 'dw'), ('ab', 'ab', 'ab', 'ab', 'ab', 'cb', 'bw', 'dw', 'dw', 'dw', 'dw', 'dw'), ('ab', 'ab', 'ab', 'ab', 'ab', 'db', 'aw', 'aw', 'aw', 'aw', 'bw', 'cw'), ('ab', 'ab', 'ab', 'ab', 'ab', 'db', 'aw', 'aw', 'aw', 'bw', 'bw', 'cw'), ('ab', 'ab', 'ab', 'ab', 'ab', 'db', 'aw', 'aw', 'aw', 'bw', 'cw', 'cw'), ('ab', 'ab', 'ab', 'ab', 'ab', 'db', 'aw', 'aw', 'bw', 'bw', 'bw', 'cw'), ('ab', 'ab', 'ab', 'ab', 'ab', 'db', 'aw', 'aw', 'bw', 'bw', 'cw', 'cw'), ('ab', 'ab', 'ab', 'ab', 'ab', 'db', 'aw', 'aw', 'bw', 'cw', 'cw', 'cw'), ('ab', 'ab', 'ab', 'ab', 'ab', 'db', 'aw', 'bw', 'bw', 'bw', 'bw', 'cw'), ('ab', 'ab', 'ab', 'ab', 'ab', 'db', 'aw', 'bw', 'bw', 'bw', 'cw', 'cw'), ('ab', 'ab', 'ab', 'ab', 'ab', 'db', 'aw', 'bw', 'bw', 'cw', 'cw', 'cw'), ('ab', 'ab', 'ab', 'ab', 'ab', 'db', 'aw', 'bw', 'cw', 'cw', 'cw', 'cw'), ('ab', 'ab', 'ab', 'ab', 'ab', 'db', 'bw', 'bw', 'bw', 'bw', 'bw', 'cw'), ('ab', 'ab', 'ab', 'ab', 'ab', 'db', 'bw', 'bw', 'bw', 'bw', 'cw', 'cw'), ('ab', 'ab', 'ab', 'ab', 'ab', 'db', 'bw', 'bw', 'bw', 'cw', 'cw', 'cw'), ('ab', 'ab', 'ab', 'ab', 'ab', 'db', 'bw', 'bw', 'cw', 'cw', 'cw', 'cw'), ('ab', 'ab', 'ab', 'ab', 'ab', 'db', 'bw', 'cw', 'cw', 'cw', 'cw', 'cw'), ('ab', 'ab', 'ab', 'ab', 'bb', 'bb', 'aw', 'aw', 'aw', 'bw', 'cw', 'dw'), ('ab', 'ab', 'ab', 'ab', 'bb', 'bb', 'aw', 'aw', 'aw', 'cw', 'cw', 'dw'), ('ab', 'ab', 'ab', 'ab', 'bb', 'bb', 'aw', 'aw', 'aw', 'cw', 'dw', 'dw'), ('ab', 'ab', 'ab', 'ab', 'bb', 'bb', 'aw', 'aw', 'bw', 'cw', 'cw', 'dw'), ('ab', 'ab', 'ab', 'ab', 'bb', 'bb', 'aw', 'aw', 'bw', 'cw', 'dw', 'dw'), ('ab', 'ab', 'ab', 'ab', 'bb', 'bb', 'aw', 'aw', 'cw', 'cw', 'cw', 'dw'), ('ab', 'ab', 'ab', 'ab', 'bb', 'bb', 'aw', 'aw', 'cw', 'cw', 'dw', 'dw'), ('ab', 'ab', 'ab', 'ab', 'bb', 'bb', 'aw', 'aw', 'cw', 'dw', 'dw', 'dw'), ('ab', 'ab', 'ab', 'ab', 'bb', 'bb', 'aw', 'bw', 'cw', 'cw', 'cw', 'dw'), ('ab', 'ab', 'ab', 'ab', 'bb', 'bb', 'aw', 'bw', 'cw', 'cw', 'dw', 'dw'), ('ab', 'ab', 'ab', 'ab', 'bb', 'bb', 'aw', 'bw', 'cw', 'dw', 'dw', 'dw'), ('ab', 'ab', 'ab', 'ab', 'bb', 'bb', 'aw', 'cw', 'cw', 'cw', 'cw', 'dw'), ('ab', 'ab', 'ab', 'ab', 'bb', 'bb', 'aw', 'cw', 'cw', 'cw', 'dw', 'dw'), ('ab', 'ab', 'ab', 'ab', 'bb', 'bb', 'aw', 'cw', 'cw', 'dw', 'dw', 'dw'), ('ab', 'ab', 'ab', 'ab', 'bb', 'bb', 'aw', 'cw', 'dw', 'dw', 'dw', 'dw'), ('ab', 'ab', 'ab', 'ab', 'bb', 'bb', 'bw', 'cw', 'cw', 'cw', 'cw', 'dw'), ('ab', 'ab', 'ab', 'ab', 'bb', 'bb', 'bw', 'cw', 'cw', 'cw', 'dw', 'dw'), ('ab', 'ab', 'ab', 'ab', 'bb', 'bb', 'bw', 'cw', 'cw', 'dw', 'dw', 'dw'), ('ab', 'ab', 'ab', 'ab', 'bb', 'bb', 'bw', 'cw', 'dw', 'dw', 'dw', 'dw'), ('ab', 'ab', 'ab', 'ab', 'bb', 'bb', 'cw', 'cw', 'cw', 'cw', 'cw', 'dw'), ('ab', 'ab', 'ab', 'ab', 'bb', 'bb', 'cw', 'cw', 'cw', 'cw', 'dw', 'dw'), ('ab', 'ab', 'ab', 'ab', 'bb', 'bb', 'cw', 'cw', 'cw', 'dw', 'dw', 'dw'), ('ab', 'ab', 'ab', 'ab', 'bb', 'bb', 'cw', 'cw', 'dw', 'dw', 'dw', 'dw'), ('ab', 'ab', 'ab', 'ab', 'bb', 'bb', 'cw', 'dw', 'dw', 'dw', 'dw', 'dw'), ('ab', 'ab', 'ab', 'ab', 'bb', 'cb', 'aw', 'aw', 'aw', 'bw', 'bw', 'dw'), ('ab', 'ab', 'ab', 'ab', 'bb', 'cb', 'aw', 'aw', 'aw', 'bw', 'dw', 'dw'), ('ab', 'ab', 'ab', 'ab', 'bb', 'cb', 'aw', 'aw', 'aw', 'cw', 'cw', 'dw'), ('ab', 'ab', 'ab', 'ab', 'bb', 'cb', 'aw', 'aw', 'aw', 'cw', 'dw', 'dw'), ('ab', 'ab', 'ab', 'ab', 'bb', 'cb', 'aw', 'aw', 'bw', 'bw', 'bw', 'dw'), ('ab', 'ab', 'ab', 'ab', 'bb', 'cb', 'aw', 'aw', 'bw', 'bw', 'dw', 'dw'), ('ab', 'ab', 'ab', 'ab', 'bb', 'cb', 'aw', 'aw', 'bw', 'dw', 'dw', 'dw'), ('ab', 'ab', 'ab', 'ab', 'bb', 'cb', 'aw', 'aw', 'cw', 'cw', 'cw', 'dw'), ('ab', 'ab', 'ab', 'ab', 'bb', 'cb', 'aw', 'aw', 'cw', 'cw', 'dw', 'dw'), ('ab', 'ab', 'ab', 'ab', 'bb', 'cb', 'aw', 'aw', 'cw', 'dw', 'dw', 'dw'), ('ab', 'ab', 'ab', 'ab', 'bb', 'cb', 'aw', 'bw', 'bw', 'bw', 'bw', 'dw'), ('ab', 'ab', 'ab', 'ab', 'bb', 'cb', 'aw', 'bw', 'bw', 'bw', 'dw', 'dw'), ('ab', 'ab', 'ab', 'ab', 'bb', 'cb', 'aw', 'bw', 'bw', 'dw', 'dw', 'dw'), ('ab', 'ab', 'ab', 'ab', 'bb', 'cb', 'aw', 'bw', 'dw', 'dw', 'dw', 'dw'), ('ab', 'ab', 'ab', 'ab', 'bb', 'cb', 'aw', 'cw', 'cw', 'cw', 'cw', 'dw'), ('ab', 'ab', 'ab', 'ab', 'bb', 'cb', 'aw', 'cw', 'cw', 'cw', 'dw', 'dw'), ('ab', 'ab', 'ab', 'ab', 'bb', 'cb', 'aw', 'cw', 'cw', 'dw', 'dw', 'dw'), ('ab', 'ab', 'ab', 'ab', 'bb', 'cb', 'aw', 'cw', 'dw', 'dw', 'dw', 'dw'), ('ab', 'ab', 'ab', 'ab', 'bb', 'cb', 'bw', 'bw', 'bw', 'bw', 'bw', 'dw'), ('ab', 'ab', 'ab', 'ab', 'bb', 'cb', 'bw', 'bw', 'bw', 'bw', 'dw', 'dw'), ('ab', 'ab', 'ab', 'ab', 'bb', 'cb', 'bw', 'bw', 'bw', 'dw', 'dw', 'dw'), ('ab', 'ab', 'ab', 'ab', 'bb', 'cb', 'bw', 'bw', 'dw', 'dw', 'dw', 'dw'), ('ab', 'ab', 'ab', 'ab', 'bb', 'cb', 'bw', 'dw', 'dw', 'dw', 'dw', 'dw'), ('ab', 'ab', 'ab', 'ab', 'bb', 'cb', 'cw', 'cw', 'cw', 'cw', 'cw', 'dw'), ('ab', 'ab', 'ab', 'ab', 'bb', 'cb', 'cw', 'cw', 'cw', 'cw', 'dw', 'dw'), ('ab', 'ab', 'ab', 'ab', 'bb', 'cb', 'cw', 'cw', 'cw', 'dw', 'dw', 'dw'), ('ab', 'ab', 'ab', 'ab', 'bb', 'cb', 'cw', 'cw', 'dw', 'dw', 'dw', 'dw'), ('ab', 'ab', 'ab', 'ab', 'bb', 'cb', 'cw', 'dw', 'dw', 'dw', 'dw', 'dw'), ('ab', 'ab', 'ab', 'ab', 'bb', 'db', 'aw', 'aw', 'aw', 'bw', 'bw', 'cw'), ('ab', 'ab', 'ab', 'ab', 'bb', 'db', 'aw', 'aw', 'aw', 'bw', 'cw', 'cw'), ('ab', 'ab', 'ab', 'ab', 'bb', 'db', 'aw', 'aw', 'aw', 'cw', 'cw', 'dw'), ('ab', 'ab', 'ab', 'ab', 'bb', 'db', 'aw', 'aw', 'aw', 'cw', 'dw', 'dw'), ('ab', 'ab', 'ab', 'ab', 'bb', 'db', 'aw', 'aw', 'bw', 'bw', 'bw', 'cw'), ('ab', 'ab', 'ab', 'ab', 'bb', 'db', 'aw', 'aw', 'bw', 'bw', 'cw', 'cw'), ('ab', 'ab', 'ab', 'ab', 'bb', 'db', 'aw', 'aw', 'bw', 'cw', 'cw', 'cw'), ('ab', 'ab', 'ab', 'ab', 'bb', 'db', 'aw', 'aw', 'cw', 'cw', 'cw', 'dw'), ('ab', 'ab', 'ab', 'ab', 'bb', 'db', 'aw', 'aw', 'cw', 'cw', 'dw', 'dw'), ('ab', 'ab', 'ab', 'ab', 'bb', 'db', 'aw', 'aw', 'cw', 'dw', 'dw', 'dw'), ('ab', 'ab', 'ab', 'ab', 'bb', 'db', 'aw', 'bw', 'bw', 'bw', 'bw', 'cw'), ('ab', 'ab', 'ab', 'ab', 'bb', 'db', 'aw', 'bw', 'bw', 'bw', 'cw', 'cw'), ('ab', 'ab', 'ab', 'ab', 'bb', 'db', 'aw', 'bw', 'bw', 'cw', 'cw', 'cw'), ('ab', 'ab', 'ab', 'ab', 'bb', 'db', 'aw', 'bw', 'cw', 'cw', 'cw', 'cw'), ('ab', 'ab', 'ab', 'ab', 'bb', 'db', 'aw', 'cw', 'cw', 'cw', 'cw', 'dw'), ('ab', 'ab', 'ab', 'ab', 'bb', 'db', 'aw', 'cw', 'cw', 'cw', 'dw', 'dw'), ('ab', 'ab', 'ab', 'ab', 'bb', 'db', 'aw', 'cw', 'cw', 'dw', 'dw', 'dw'), ('ab', 'ab', 'ab', 'ab', 'bb', 'db', 'aw', 'cw', 'dw', 'dw', 'dw', 'dw'), ('ab', 'ab', 'ab', 'ab', 'bb', 'db', 'bw', 'bw', 'bw', 'bw', 'bw', 'cw'), ('ab', 'ab', 'ab', 'ab', 'bb', 'db', 'bw', 'bw', 'bw', 'bw', 'cw', 'cw'), ('ab', 'ab', 'ab', 'ab', 'bb', 'db', 'bw', 'bw', 'bw', 'cw', 'cw', 'cw'), ('ab', 'ab', 'ab', 'ab', 'bb', 'db', 'bw', 'bw', 'cw', 'cw', 'cw', 'cw'), ('ab', 'ab', 'ab', 'ab', 'bb', 'db', 'bw', 'cw', 'cw', 'cw', 'cw', 'cw'), ('ab', 'ab', 'ab', 'ab', 'bb', 'db', 'cw', 'cw', 'cw', 'cw', 'cw', 'dw'), ('ab', 'ab', 'ab', 'ab', 'bb', 'db', 'cw', 'cw', 'cw', 'cw', 'dw', 'dw'), ('ab', 'ab', 'ab', 'ab', 'bb', 'db', 'cw', 'cw', 'cw', 'dw', 'dw', 'dw'), ('ab', 'ab', 'ab', 'ab', 'bb', 'db', 'cw', 'cw', 'dw', 'dw', 'dw', 'dw'), ('ab', 'ab', 'ab', 'ab', 'bb', 'db', 'cw', 'dw', 'dw', 'dw', 'dw', 'dw'), ('ab', 'ab', 'ab', 'ab', 'cb', 'cb', 'aw', 'aw', 'aw', 'bw', 'bw', 'dw'), ('ab', 'ab', 'ab', 'ab', 'cb', 'cb', 'aw', 'aw', 'aw', 'bw', 'cw', 'dw'), ('ab', 'ab', 'ab', 'ab', 'cb', 'cb', 'aw', 'aw', 'aw', 'bw', 'dw', 'dw'), ('ab', 'ab', 'ab', 'ab', 'cb', 'cb', 'aw', 'aw', 'bw', 'bw', 'bw', 'dw'), ('ab', 'ab', 'ab', 'ab', 'cb', 'cb', 'aw', 'aw', 'bw', 'bw', 'cw', 'dw'), ('ab', 'ab', 'ab', 'ab', 'cb', 'cb', 'aw', 'aw', 'bw', 'bw', 'dw', 'dw'), ('ab', 'ab', 'ab', 'ab', 'cb', 'cb', 'aw', 'aw', 'bw', 'cw', 'dw', 'dw'), ('ab', 'ab', 'ab', 'ab', 'cb', 'cb', 'aw', 'aw', 'bw', 'dw', 'dw', 'dw'), ('ab', 'ab', 'ab', 'ab', 'cb', 'cb', 'aw', 'bw', 'bw', 'bw', 'bw', 'dw'), ('ab', 'ab', 'ab', 'ab', 'cb', 'cb', 'aw', 'bw', 'bw', 'bw', 'cw', 'dw'), ('ab', 'ab', 'ab', 'ab', 'cb', 'cb', 'aw', 'bw', 'bw', 'bw', 'dw', 'dw'), ('ab', 'ab', 'ab', 'ab', 'cb', 'cb', 'aw', 'bw', 'bw', 'cw', 'dw', 'dw'), ('ab', 'ab', 'ab', 'ab', 'cb', 'cb', 'aw', 'bw', 'bw', 'dw', 'dw', 'dw'), ('ab', 'ab', 'ab', 'ab', 'cb', 'cb', 'aw', 'bw', 'cw', 'dw', 'dw', 'dw'), ('ab', 'ab', 'ab', 'ab', 'cb', 'cb', 'aw', 'bw', 'dw', 'dw', 'dw', 'dw'), ('ab', 'ab', 'ab', 'ab', 'cb', 'cb', 'bw', 'bw', 'bw', 'bw', 'bw', 'dw'), ('ab', 'ab', 'ab', 'ab', 'cb', 'cb', 'bw', 'bw', 'bw', 'bw', 'cw', 'dw'), ('ab', 'ab', 'ab', 'ab', 'cb', 'cb', 'bw', 'bw', 'bw', 'bw', 'dw', 'dw'), ('ab', 'ab', 'ab', 'ab', 'cb', 'cb', 'bw', 'bw', 'bw', 'cw', 'dw', 'dw'), ('ab', 'ab', 'ab', 'ab', 'cb', 'cb', 'bw', 'bw', 'bw', 'dw', 'dw', 'dw'), ('ab', 'ab', 'ab', 'ab', 'cb', 'cb', 'bw', 'bw', 'cw', 'dw', 'dw', 'dw'), ('ab', 'ab', 'ab', 'ab', 'cb', 'cb', 'bw', 'bw', 'dw', 'dw', 'dw', 'dw'), ('ab', 'ab', 'ab', 'ab', 'cb', 'cb', 'bw', 'cw', 'dw', 'dw', 'dw', 'dw'), ('ab', 'ab', 'ab', 'ab', 'cb', 'cb', 'bw', 'dw', 'dw', 'dw', 'dw', 'dw'), ('ab', 'ab', 'ab', 'ab', 'cb', 'db', 'aw', 'aw', 'aw', 'bw', 'bw', 'cw'), ('ab', 'ab', 'ab', 'ab', 'cb', 'db', 'aw', 'aw', 'aw', 'bw', 'bw', 'dw'), ('ab', 'ab', 'ab', 'ab', 'cb', 'db', 'aw', 'aw', 'aw', 'bw', 'cw', 'cw'), ('ab', 'ab', 'ab', 'ab', 'cb', 'db', 'aw', 'aw', 'aw', 'bw', 'dw', 'dw'), ('ab', 'ab', 'ab', 'ab', 'cb', 'db', 'aw', 'aw', 'bw', 'bw', 'bw', 'cw'), ('ab', 'ab', 'ab', 'ab', 'cb', 'db', 'aw', 'aw', 'bw', 'bw', 'bw', 'dw'), ('ab', 'ab', 'ab', 'ab', 'cb', 'db', 'aw', 'aw', 'bw', 'bw', 'cw', 'cw'), ('ab', 'ab', 'ab', 'ab', 'cb', 'db', 'aw', 'aw', 'bw', 'bw', 'dw', 'dw'), ('ab', 'ab', 'ab', 'ab', 'cb', 'db', 'aw', 'aw', 'bw', 'cw', 'cw', 'cw'), ('ab', 'ab', 'ab', 'ab', 'cb', 'db', 'aw', 'aw', 'bw', 'dw', 'dw', 'dw'), ('ab', 'ab', 'ab', 'ab', 'cb', 'db', 'aw', 'bw', 'bw', 'bw', 'bw', 'cw'), ('ab', 'ab', 'ab', 'ab', 'cb', 'db', 'aw', 'bw', 'bw', 'bw', 'bw', 'dw'), ('ab', 'ab', 'ab', 'ab', 'cb', 'db', 'aw', 'bw', 'bw', 'bw', 'cw', 'cw'), ('ab', 'ab', 'ab', 'ab', 'cb', 'db', 'aw', 'bw', 'bw', 'bw', 'dw', 'dw'), ('ab', 'ab', 'ab', 'ab', 'cb', 'db', 'aw', 'bw', 'bw', 'cw', 'cw', 'cw'), ('ab', 'ab', 'ab', 'ab', 'cb', 'db', 'aw', 'bw', 'bw', 'dw', 'dw', 'dw'), ('ab', 'ab', 'ab', 'ab', 'cb', 'db', 'aw', 'bw', 'cw', 'cw', 'cw', 'cw'), ('ab', 'ab', 'ab', 'ab', 'cb', 'db', 'aw', 'bw', 'dw', 'dw', 'dw', 'dw'), ('ab', 'ab', 'ab', 'ab', 'cb', 'db', 'bw', 'bw', 'bw', 'bw', 'bw', 'cw'), ('ab', 'ab', 'ab', 'ab', 'cb', 'db', 'bw', 'bw', 'bw', 'bw', 'bw', 'dw'), ('ab', 'ab', 'ab', 'ab', 'cb', 'db', 'bw', 'bw', 'bw', 'bw', 'cw', 'cw'), ('ab', 'ab', 'ab', 'ab', 'cb', 'db', 'bw', 'bw', 'bw', 'bw', 'dw', 'dw'), ('ab', 'ab', 'ab', 'ab', 'cb', 'db', 'bw', 'bw', 'bw', 'cw', 'cw', 'cw'), ('ab', 'ab', 'ab', 'ab', 'cb', 'db', 'bw', 'bw', 'bw', 'dw', 'dw', 'dw'), ('ab', 'ab', 'ab', 'ab', 'cb', 'db', 'bw', 'bw', 'cw', 'cw', 'cw', 'cw'), ('ab', 'ab', 'ab', 'ab', 'cb', 'db', 'bw', 'bw', 'dw', 'dw', 'dw', 'dw'), ('ab', 'ab', 'ab', 'ab', 'cb', 'db', 'bw', 'cw', 'cw', 'cw', 'cw', 'cw'), ('ab', 'ab', 'ab', 'ab', 'cb', 'db', 'bw', 'dw', 'dw', 'dw', 'dw', 'dw'), ('ab', 'ab', 'ab', 'ab', 'db', 'db', 'aw', 'aw', 'aw', 'bw', 'bw', 'cw'), ('ab', 'ab', 'ab', 'ab', 'db', 'db', 'aw', 'aw', 'aw', 'bw', 'cw', 'cw'), ('ab', 'ab', 'ab', 'ab', 'db', 'db', 'aw', 'aw', 'aw', 'bw', 'cw', 'dw'), ('ab', 'ab', 'ab', 'ab', 'db', 'db', 'aw', 'aw', 'bw', 'bw', 'bw', 'cw'), ('ab', 'ab', 'ab', 'ab', 'db', 'db', 'aw', 'aw', 'bw', 'bw', 'cw', 'cw'), ('ab', 'ab', 'ab', 'ab', 'db', 'db', 'aw', 'aw', 'bw', 'bw', 'cw', 'dw'), ('ab', 'ab', 'ab', 'ab', 'db', 'db', 'aw', 'aw', 'bw', 'cw', 'cw', 'cw'), ('ab', 'ab', 'ab', 'ab', 'db', 'db', 'aw', 'aw', 'bw', 'cw', 'cw', 'dw'), ('ab', 'ab', 'ab', 'ab', 'db', 'db', 'aw', 'bw', 'bw', 'bw', 'bw', 'cw'), ('ab', 'ab', 'ab', 'ab', 'db', 'db', 'aw', 'bw', 'bw', 'bw', 'cw', 'cw'), ('ab', 'ab', 'ab', 'ab', 'db', 'db', 'aw', 'bw', 'bw', 'bw', 'cw', 'dw'), ('ab', 'ab', 'ab', 'ab', 'db', 'db', 'aw', 'bw', 'bw', 'cw', 'cw', 'cw'), ('ab', 'ab', 'ab', 'ab', 'db', 'db', 'aw', 'bw', 'bw', 'cw', 'cw', 'dw'), ('ab', 'ab', 'ab', 'ab', 'db', 'db', 'aw', 'bw', 'cw', 'cw', 'cw', 'cw'), ('ab', 'ab', 'ab', 'ab', 'db', 'db', 'aw', 'bw', 'cw', 'cw', 'cw', 'dw'), ('ab', 'ab', 'ab', 'ab', 'db', 'db', 'bw', 'bw', 'bw', 'bw', 'bw', 'cw'), ('ab', 'ab', 'ab', 'ab', 'db', 'db', 'bw', 'bw', 'bw', 'bw', 'cw', 'cw'), ('ab', 'ab', 'ab', 'ab', 'db', 'db', 'bw', 'bw', 'bw', 'bw', 'cw', 'dw'), ('ab', 'ab', 'ab', 'ab', 'db', 'db', 'bw', 'bw', 'bw', 'cw', 'cw', 'cw'), ('ab', 'ab', 'ab', 'ab', 'db', 'db', 'bw', 'bw', 'bw', 'cw', 'cw', 'dw'), ('ab', 'ab', 'ab', 'ab', 'db', 'db', 'bw', 'bw', 'cw', 'cw', 'cw', 'cw'), ('ab', 'ab', 'ab', 'ab', 'db', 'db', 'bw', 'bw', 'cw', 'cw', 'cw', 'dw'), ('ab', 'ab', 'ab', 'ab', 'db', 'db', 'bw', 'cw', 'cw', 'cw', 'cw', 'cw'), ('ab', 'ab', 'ab', 'ab', 'db', 'db', 'bw', 'cw', 'cw', 'cw', 'cw', 'dw')]\n"
     ]
    }
   ],
   "source": [
    "b=['ab', 'bb', 'cb', 'db']\n",
    "w=['aw', 'bw', 'cw', 'dw']\n",
    "bhb=list(H(b, 6))\n",
    "whw=list(H(w, 6))\n",
    "al=[i[0]+i[1] for i in list(PR(bhb, whw))]\n",
    "ans=[]\n",
    "for i in al:\n",
    "    front=[j[0] for j in i]\n",
    "    if i.count('ab')>=4 and len(set(front))==4 and i.count('ab')>i.count('aw'):\n",
    "        if [i.count('bb')>i.count('bw'), i.count('cb')>i.count('cw'), i.count('db')>i.count('dw')].count(True)==1:\n",
    "            ans.append(i)\n",
    "print(len(ans))\n",
    "print(ans)"
   ]
  },
  {
   "cell_type": "code",
   "execution_count": 56,
   "metadata": {},
   "outputs": [
    {
     "data": {
      "text/plain": [
       "'\\n[ x+y for x in A for y in B ]\\nfor x in A:\\n    for y in B:\\n        a.append(x+y)\\n'"
      ]
     },
     "execution_count": 56,
     "metadata": {},
     "output_type": "execute_result"
    }
   ],
   "source": [
    "'''\n",
    "[ x+y for x in A for y in B ]\n",
    "for x in A:\n",
    "    for y in B:\n",
    "        a.append(x+y)\n",
    "'''"
   ]
  },
  {
   "cell_type": "code",
   "execution_count": 57,
   "metadata": {},
   "outputs": [
    {
     "ename": "SyntaxError",
     "evalue": "invalid syntax (<ipython-input-57-5f65582795c9>, line 3)",
     "output_type": "error",
     "traceback": [
      "\u001b[1;36m  File \u001b[1;32m\"<ipython-input-57-5f65582795c9>\"\u001b[1;36m, line \u001b[1;32m3\u001b[0m\n\u001b[1;33m    for i\u001b[0m\n\u001b[1;37m          ^\u001b[0m\n\u001b[1;31mSyntaxError\u001b[0m\u001b[1;31m:\u001b[0m invalid syntax\n"
     ]
    }
   ],
   "source": [
    "a=[1, 2, 3, 4, 'a', 'b', 'c', 'd', 'e']\n",
    "al=list(P(a))\n"
   ]
  },
  {
   "cell_type": "code",
   "execution_count": 59,
   "metadata": {},
   "outputs": [
    {
     "name": "stdout",
     "output_type": "stream",
     "text": [
      "[(2, 1, 1, 1), (2, 1, 1, 2), (2, 1, 1, 3), (2, 1, 2, 1), (2, 1, 2, 2), (2, 1, 2, 3), (2, 1, 3, 1), (2, 1, 3, 2), (2, 1, 3, 3), (2, 2, 1, 1), (2, 2, 1, 2), (2, 2, 1, 3), (2, 2, 2, 1), (2, 2, 2, 2), (2, 2, 2, 3), (2, 2, 3, 1), (2, 2, 3, 2), (2, 2, 3, 3), (2, 3, 1, 1), (2, 3, 1, 2), (2, 3, 1, 3), (2, 3, 2, 1), (2, 3, 2, 2), (2, 3, 2, 3), (2, 3, 3, 1), (2, 3, 3, 2), (2, 3, 3, 3), (3, 1, 1, 1), (3, 1, 1, 2), (3, 1, 1, 3), (3, 1, 2, 1), (3, 1, 2, 2), (3, 1, 2, 3), (3, 1, 3, 1), (3, 1, 3, 2), (3, 1, 3, 3), (3, 2, 1, 1), (3, 2, 1, 2), (3, 2, 1, 3), (3, 2, 2, 1), (3, 2, 2, 2), (3, 2, 2, 3), (3, 2, 3, 1), (3, 2, 3, 2), (3, 2, 3, 3), (3, 3, 1, 1), (3, 3, 1, 2), (3, 3, 1, 3), (3, 3, 2, 1), (3, 3, 2, 2), (3, 3, 2, 3), (3, 3, 3, 1), (3, 3, 3, 2), (3, 3, 3, 3)]\n"
     ]
    }
   ],
   "source": [
    "A=[1, 2, 3, 4]\n",
    "B=[1, 2, 3]\n",
    "al=list(PR(B, repeat=len(A)))\n",
    "ans=[]\n",
    "for i in al:\n",
    "    if i[0]>=2 or len(set(A))==3:\n",
    "        ans.append(i)\n",
    "print(ans)"
   ]
  },
  {
   "cell_type": "code",
   "execution_count": null,
   "metadata": {},
   "outputs": [],
   "source": []
  },
  {
   "cell_type": "code",
   "execution_count": 58,
   "metadata": {},
   "outputs": [
    {
     "name": "stdout",
     "output_type": "stream",
     "text": [
      "qy\n"
     ]
    }
   ],
   "source": [
    "print('qy')"
   ]
  },
  {
   "cell_type": "code",
   "execution_count": null,
   "metadata": {},
   "outputs": [],
   "source": []
  }
 ],
 "metadata": {
  "kernelspec": {
   "display_name": "Python 3",
   "language": "python",
   "name": "python3"
  },
  "language_info": {
   "codemirror_mode": {
    "name": "ipython",
    "version": 3
   },
   "file_extension": ".py",
   "mimetype": "text/x-python",
   "name": "python",
   "nbconvert_exporter": "python",
   "pygments_lexer": "ipython3",
   "version": "3.8.5"
  }
 },
 "nbformat": 4,
 "nbformat_minor": 4
}
