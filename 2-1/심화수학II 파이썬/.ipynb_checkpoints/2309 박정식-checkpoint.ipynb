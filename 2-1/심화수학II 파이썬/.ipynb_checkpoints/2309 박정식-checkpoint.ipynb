{
 "cells": [
  {
   "cell_type": "code",
   "execution_count": 1,
   "metadata": {},
   "outputs": [],
   "source": [
    "from itertools import product as PR\n",
    "from itertools import combinations as C\n",
    "from itertools import combinations_with_replacement as H\n",
    "from itertools import permutations as P\n",
    "from fractions import Fraction as frac"
   ]
  },
  {
   "cell_type": "code",
   "execution_count": 23,
   "metadata": {},
   "outputs": [
    {
     "name": "stdout",
     "output_type": "stream",
     "text": [
      "201\n"
     ]
    }
   ],
   "source": [
    "#푼 문제: 4명의 학생 모자 분배. 이 부분을 제출합니다.\n",
    "b=['Ab', 'Bb', 'Cb', 'Db']\n",
    "w=['Aw', 'Bw', 'Cw', 'Dw']\n",
    "bpb=list(H(b, 6))\n",
    "wpw=list(H(w, 6))\n",
    "al=[i[0]+i[1] for i in list(PR(bpb, wpw))]\n",
    "ans=[]\n",
    "for i in al:\n",
    "    front=[j[0] for j in i]\n",
    "    if len(set(front))==4 and i.count('Ab')>=4 and i.count('Ab')>i.count('Aw'):\n",
    "        if [i.count('Bb')>i.count('Bw'), i.count('Cb')>i.count('Cw'), i.count('Db')>i.count('Dw')].count(True)==1:\n",
    "            ans.append(i)\n",
    "print(len(ans))"
   ]
  },
  {
   "cell_type": "code",
   "execution_count": 24,
   "metadata": {},
   "outputs": [
    {
     "name": "stdout",
     "output_type": "stream",
     "text": [
      "201\n"
     ]
    }
   ],
   "source": [
    "#코드를 최대한 짧게 해 보았습니다. 시간이 많이 남아서 한 부분.\n",
    "print(len([i for i in[i[0]+i[1]for i in list(PR(H([11,21,31,41],6),H([12,22,32,42],6)))]if all((len(set([j//10 for j in i]))==4,i.count(11)>=4,i.count(11)>i.count(12),[i.count(21)>i.count(22),i.count(31)>i.count(32),i.count(41)>i.count(42)].count(True)==1))]))"
   ]
  },
  {
   "cell_type": "code",
   "execution_count": null,
   "metadata": {},
   "outputs": [],
   "source": []
  }
 ],
 "metadata": {
  "kernelspec": {
   "display_name": "Python 3",
   "language": "python",
   "name": "python3"
  },
  "language_info": {
   "codemirror_mode": {
    "name": "ipython",
    "version": 3
   },
   "file_extension": ".py",
   "mimetype": "text/x-python",
   "name": "python",
   "nbconvert_exporter": "python",
   "pygments_lexer": "ipython3",
   "version": "3.8.5"
  }
 },
 "nbformat": 4,
 "nbformat_minor": 4
}
