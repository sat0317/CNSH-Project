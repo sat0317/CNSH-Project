{
 "cells": [
  {
   "cell_type": "code",
   "execution_count": 51,
   "id": "b24d9040",
   "metadata": {},
   "outputs": [
    {
     "name": "stdout",
     "output_type": "stream",
     "text": [
      "2 3\n",
      "True\n"
     ]
    }
   ],
   "source": [
    "#1051\n",
    "a, b=input().split()\n",
    "print(a!=b)"
   ]
  },
  {
   "cell_type": "code",
   "execution_count": 52,
   "id": "dad65691",
   "metadata": {},
   "outputs": [
    {
     "name": "stdout",
     "output_type": "stream",
     "text": [
      "0\n",
      "False\n"
     ]
    }
   ],
   "source": [
    "#1052\n",
    "print(bool(int(input())))"
   ]
  },
  {
   "cell_type": "code",
   "execution_count": 53,
   "id": "b6162c85",
   "metadata": {},
   "outputs": [
    {
     "name": "stdout",
     "output_type": "stream",
     "text": [
      "0\n",
      "True\n"
     ]
    }
   ],
   "source": [
    "#1053\n",
    "print(not bool(int(input())))"
   ]
  },
  {
   "cell_type": "code",
   "execution_count": 54,
   "id": "869befe3",
   "metadata": {},
   "outputs": [
    {
     "name": "stdout",
     "output_type": "stream",
     "text": [
      "1 1\n",
      "True\n"
     ]
    }
   ],
   "source": [
    "#1054\n",
    "a, b=input().split()\n",
    "print(bool(int(a)) and bool(int(b)))"
   ]
  },
  {
   "cell_type": "code",
   "execution_count": 55,
   "id": "4f4521c4",
   "metadata": {},
   "outputs": [
    {
     "name": "stdout",
     "output_type": "stream",
     "text": [
      "1 1\n",
      "True\n"
     ]
    }
   ],
   "source": [
    "#1055\n",
    "a, b=input().split()\n",
    "print(bool(int(a)) or bool(int(b)))"
   ]
  },
  {
   "cell_type": "code",
   "execution_count": 58,
   "id": "4f7a328f",
   "metadata": {},
   "outputs": [
    {
     "name": "stdout",
     "output_type": "stream",
     "text": [
      "1 0\n",
      "True\n"
     ]
    }
   ],
   "source": [
    "#1056\n",
    "a, b=input().split()\n",
    "a, b=bool(int(a)), bool(int(b))\n",
    "print((a and not b) or (b and not a))"
   ]
  },
  {
   "cell_type": "code",
   "execution_count": 59,
   "id": "2842dec3",
   "metadata": {},
   "outputs": [
    {
     "name": "stdout",
     "output_type": "stream",
     "text": [
      "1 1\n",
      "True\n"
     ]
    }
   ],
   "source": [
    "#1057\n",
    "a, b=input().split()\n",
    "a, b=bool(int(a)), bool(int(b))\n",
    "print(a==b)"
   ]
  },
  {
   "cell_type": "code",
   "execution_count": 60,
   "id": "d6e61b98",
   "metadata": {},
   "outputs": [
    {
     "name": "stdout",
     "output_type": "stream",
     "text": [
      "1 0\n",
      "False\n"
     ]
    }
   ],
   "source": [
    "#1058\n",
    "a, b=input().split()\n",
    "a, b=bool(int(a)), bool(int(b))\n",
    "print(not (a or b))"
   ]
  },
  {
   "cell_type": "code",
   "execution_count": 61,
   "id": "6ca3c67f",
   "metadata": {},
   "outputs": [
    {
     "name": "stdout",
     "output_type": "stream",
     "text": [
      "1\n",
      "-2\n"
     ]
    }
   ],
   "source": [
    "#1059\n",
    "a=int(input())\n",
    "print(~a)"
   ]
  },
  {
   "cell_type": "code",
   "execution_count": 63,
   "id": "517a8dd6",
   "metadata": {},
   "outputs": [
    {
     "name": "stdout",
     "output_type": "stream",
     "text": [
      "3 5\n",
      "1\n"
     ]
    }
   ],
   "source": [
    "#1060\n",
    "a, b=input().split()\n",
    "a, b=int(a), int(b)\n",
    "print(a&b)"
   ]
  },
  {
   "cell_type": "code",
   "execution_count": 64,
   "id": "3d6d97e7",
   "metadata": {},
   "outputs": [
    {
     "name": "stdout",
     "output_type": "stream",
     "text": [
      "3 5\n",
      "7\n"
     ]
    }
   ],
   "source": [
    "#1061\n",
    "a, b=input().split()\n",
    "a, b=int(a), int(b)\n",
    "print(a|b)"
   ]
  },
  {
   "cell_type": "code",
   "execution_count": 65,
   "id": "6020d3c7",
   "metadata": {},
   "outputs": [
    {
     "name": "stdout",
     "output_type": "stream",
     "text": [
      "3 5\n",
      "6\n"
     ]
    }
   ],
   "source": [
    "#1062\n",
    "a, b=input().split()\n",
    "a, b=int(a), int(b)\n",
    "print(a^b)"
   ]
  },
  {
   "cell_type": "code",
   "execution_count": 66,
   "id": "bccb307a",
   "metadata": {},
   "outputs": [
    {
     "name": "stdout",
     "output_type": "stream",
     "text": [
      "123 456\n",
      "456\n"
     ]
    }
   ],
   "source": [
    "#1063\n",
    "a, b = input().split()\n",
    "a = int(a)\n",
    "b = int(b)\n",
    "c = (a if (a>=b) else b)\n",
    "print(int(c))"
   ]
  },
  {
   "cell_type": "code",
   "execution_count": 67,
   "id": "08f1a336",
   "metadata": {},
   "outputs": [
    {
     "name": "stdout",
     "output_type": "stream",
     "text": [
      "3 -1 5\n",
      "-1\n"
     ]
    }
   ],
   "source": [
    "#1064\n",
    "a, b, c = input().split()\n",
    "a, b, c = int(a), int(b), int(c)\n",
    "if a<=b and a<=c:\n",
    "    print(a)\n",
    "elif b<=a and b<=c:\n",
    "    print(b)\n",
    "else:\n",
    "    print(c)"
   ]
  },
  {
   "cell_type": "code",
   "execution_count": 68,
   "id": "6d8c5347",
   "metadata": {},
   "outputs": [
    {
     "name": "stdout",
     "output_type": "stream",
     "text": [
      "1 2 4\n",
      "2\n",
      "4\n"
     ]
    }
   ],
   "source": [
    "#1065\n",
    "a, b, c = input().split()\n",
    "a = int(a), int(b), int(c)\n",
    "for i in a:\n",
    "    if i%2==0:\n",
    "        print(i)"
   ]
  },
  {
   "cell_type": "code",
   "execution_count": 69,
   "id": "9e1f713d",
   "metadata": {},
   "outputs": [
    {
     "name": "stdout",
     "output_type": "stream",
     "text": [
      "1 2 4\n",
      "odd\n",
      "even\n",
      "even\n"
     ]
    }
   ],
   "source": [
    "#1066\n",
    "a, b, c = input().split()\n",
    "a = int(a), int(b), int(c)\n",
    "for i in a:\n",
    "    if i%2==0:\n",
    "        print(\"even\")\n",
    "    else:\n",
    "        print(\"odd\")"
   ]
  },
  {
   "cell_type": "code",
   "execution_count": 72,
   "id": "1b456cb6",
   "metadata": {},
   "outputs": [
    {
     "name": "stdout",
     "output_type": "stream",
     "text": [
      "1234\n",
      "A\n"
     ]
    }
   ],
   "source": [
    "#1067\n",
    "a=int(input())\n",
    "if a<0:\n",
    "    if a%2==0:\n",
    "        print('A')\n",
    "    else:\n",
    "        print('B')\n",
    "else:\n",
    "    if a%2==0:\n",
    "        print('C')\n",
    "    else:\n",
    "        print('D')"
   ]
  },
  {
   "cell_type": "code",
   "execution_count": 75,
   "id": "c5074e72",
   "metadata": {},
   "outputs": [
    {
     "name": "stdout",
     "output_type": "stream",
     "text": [
      "90\n",
      "A\n"
     ]
    }
   ],
   "source": [
    "#1068\n",
    "a=int(input())\n",
    "b=[90, 70, 40, 0]\n",
    "c=['A', 'B', 'C', 'D']\n",
    "for i in range(len(b)):\n",
    "    if (b[i]<=a):\n",
    "        print(c[i])\n",
    "        break"
   ]
  },
  {
   "cell_type": "code",
   "execution_count": 80,
   "id": "1659e331",
   "metadata": {},
   "outputs": [
    {
     "name": "stdout",
     "output_type": "stream",
     "text": [
      "A\n",
      "best!!!\n"
     ]
    }
   ],
   "source": [
    "#1069\n",
    "a=input()\n",
    "b={\n",
    "    'A' : 'best!!!',\n",
    "    'B' : 'good!!',\n",
    "    'C' : 'run!',\n",
    "    'D' : 'slowly~'\n",
    "}\n",
    "if a in b.keys():\n",
    "    print(b[a])\n",
    "else:\n",
    "    print('what?')"
   ]
  },
  {
   "cell_type": "code",
   "execution_count": 81,
   "id": "dffd17cf",
   "metadata": {},
   "outputs": [
    {
     "name": "stdout",
     "output_type": "stream",
     "text": [
      "3\n",
      "spring\n"
     ]
    }
   ],
   "source": [
    "#1070\n",
    "a=int(input())%12\n",
    "b=[2, 5, 8, 11]\n",
    "c=['winter', 'spring', 'summer', 'fall']\n",
    "for i in range(len(b)):\n",
    "    if a<=b[i]:\n",
    "        print(c[i])\n",
    "        break"
   ]
  },
  {
   "cell_type": "code",
   "execution_count": 82,
   "id": "70336df2",
   "metadata": {},
   "outputs": [
    {
     "name": "stdout",
     "output_type": "stream",
     "text": [
      "4\n",
      "4\n",
      "4\n",
      "4\n",
      "0\n"
     ]
    }
   ],
   "source": [
    "#1071\n",
    "n=input()\n",
    "while n!='0':\n",
    "    print(n)\n",
    "    n=input()"
   ]
  },
  {
   "cell_type": "code",
   "execution_count": 83,
   "id": "5bb7b0d3",
   "metadata": {},
   "outputs": [
    {
     "name": "stdout",
     "output_type": "stream",
     "text": [
      "5\n",
      "5\n",
      "4\n",
      "3\n",
      "2\n",
      "1\n"
     ]
    }
   ],
   "source": [
    "#1072\n",
    "n=int(input())\n",
    "for i in range(n, 0, -1):\n",
    "    print(i)"
   ]
  },
  {
   "cell_type": "code",
   "execution_count": 84,
   "id": "1c2b560c",
   "metadata": {},
   "outputs": [
    {
     "name": "stdout",
     "output_type": "stream",
     "text": [
      "5\n",
      "4\n",
      "3\n",
      "2\n",
      "1\n",
      "0\n"
     ]
    }
   ],
   "source": [
    "#1073\n",
    "n=int(input())\n",
    "for i in range(n-1, -1, -1):\n",
    "    print(i)"
   ]
  },
  {
   "cell_type": "code",
   "execution_count": 90,
   "id": "3df14275",
   "metadata": {},
   "outputs": [
    {
     "name": "stdout",
     "output_type": "stream",
     "text": [
      "f\n",
      "a b c d e f "
     ]
    }
   ],
   "source": [
    "#1074\n",
    "n=ord(input())\n",
    "for i in range(97, n+1):\n",
    "    print(chr(i), end=' ')"
   ]
  },
  {
   "cell_type": "code",
   "execution_count": 91,
   "id": "30e6c92b",
   "metadata": {},
   "outputs": [
    {
     "name": "stdout",
     "output_type": "stream",
     "text": [
      "4\n",
      "0\n",
      "1\n",
      "2\n",
      "3\n",
      "4\n"
     ]
    }
   ],
   "source": [
    "#1075\n",
    "n=int(input())\n",
    "for i in range(0, n+1):\n",
    "    print(i)"
   ]
  },
  {
   "cell_type": "code",
   "execution_count": 27,
   "id": "d342ef0c",
   "metadata": {},
   "outputs": [],
   "source": [
    "#1076\n",
    "n=int(input())\n",
    "for i in range(0, n+1):\n",
    "    print(i)"
   ]
  },
  {
   "cell_type": "code",
   "execution_count": 92,
   "id": "6e612725",
   "metadata": {},
   "outputs": [
    {
     "name": "stdout",
     "output_type": "stream",
     "text": [
      "5\n",
      "6\n"
     ]
    }
   ],
   "source": [
    "#1076\n",
    "n=int(input())\n",
    "s=0\n",
    "for i in range(0, n+1):\n",
    "    if i%2==0:\n",
    "        s+=i\n",
    "print(s)"
   ]
  },
  {
   "cell_type": "code",
   "execution_count": 93,
   "id": "dcd3b98f",
   "metadata": {},
   "outputs": [
    {
     "name": "stdout",
     "output_type": "stream",
     "text": [
      "a\n",
      "a\n",
      "b\n",
      "b\n",
      "q\n",
      "q\n"
     ]
    }
   ],
   "source": [
    "#1078\n",
    "n=input()\n",
    "while n!='q':\n",
    "    print(n)\n",
    "    n=input()\n",
    "print(n)"
   ]
  },
  {
   "cell_type": "code",
   "execution_count": 94,
   "id": "84ee29a0",
   "metadata": {},
   "outputs": [
    {
     "name": "stdout",
     "output_type": "stream",
     "text": [
      "55\n",
      "10\n"
     ]
    }
   ],
   "source": [
    "#1079\n",
    "n=int(input())\n",
    "i=0\n",
    "s=0\n",
    "while s<n:\n",
    "    i+=1\n",
    "    s+=i\n",
    "print(i)"
   ]
  },
  {
   "cell_type": "code",
   "execution_count": 95,
   "id": "d91c7f3d",
   "metadata": {},
   "outputs": [
    {
     "name": "stdout",
     "output_type": "stream",
     "text": [
      "2 3\n",
      "1 1\n",
      "1 2\n",
      "1 3\n",
      "2 1\n",
      "2 2\n",
      "2 3\n"
     ]
    }
   ],
   "source": [
    "#1080\n",
    "n, m=input().split()\n",
    "n, m=int(n), int(m)\n",
    "for i in range(1, n+1) :\n",
    "    for j in range(1, m+1) :\n",
    "        print(i, j)"
   ]
  },
  {
   "cell_type": "code",
   "execution_count": 98,
   "id": "e7363d82",
   "metadata": {},
   "outputs": [
    {
     "name": "stdout",
     "output_type": "stream",
     "text": [
      "A\n",
      "A*1=A\n",
      "A*2=14\n",
      "A*3=1E\n",
      "A*4=28\n",
      "A*5=32\n",
      "A*6=3C\n",
      "A*7=46\n",
      "A*8=50\n",
      "A*9=5A\n",
      "A*A=64\n",
      "A*B=6E\n",
      "A*C=78\n",
      "A*D=82\n",
      "A*E=8C\n",
      "A*F=96\n"
     ]
    }
   ],
   "source": [
    "#1081\n",
    "n=int(input(), 16)\n",
    "for i in range(1, 16):\n",
    "    print('%X' % n, '*%X' % i, '=%X' % (n*i), sep='')"
   ]
  },
  {
   "cell_type": "code",
   "execution_count": 103,
   "id": "e85b3ca5",
   "metadata": {},
   "outputs": [
    {
     "name": "stdout",
     "output_type": "stream",
     "text": [
      "9\n",
      "1\n",
      "2\n",
      "X\n",
      "4\n",
      "5\n",
      "X\n",
      "7\n",
      "8\n",
      "X\n"
     ]
    }
   ],
   "source": [
    "#1082\n",
    "a=int(input())\n",
    "for i in range(1, a+1):\n",
    "    if '3' in str(i) or '6' in str(i) or '9' in str(i):\n",
    "        print('X', )\n",
    "    else:\n",
    "        print(i)"
   ]
  },
  {
   "cell_type": "code",
   "execution_count": 107,
   "id": "98292d19",
   "metadata": {},
   "outputs": [
    {
     "name": "stdout",
     "output_type": "stream",
     "text": [
      "2 2 2\n",
      "0 0 0\n",
      "0 0 1\n",
      "0 1 0\n",
      "0 1 1\n",
      "1 0 0\n",
      "1 0 1\n",
      "1 1 0\n",
      "1 1 1\n",
      "8\n"
     ]
    }
   ],
   "source": [
    "#1083\n",
    "a, b, c=input().split()\n",
    "a, b, c=int(a), int(b), int(c)\n",
    "for i in range(0, a):\n",
    "    for j in range(0, b):\n",
    "        for k in range(0, c):\n",
    "            print(i, j, k)\n",
    "print(a*b*c)"
   ]
  },
  {
   "cell_type": "code",
   "execution_count": 109,
   "id": "a59e406d",
   "metadata": {},
   "outputs": [
    {
     "name": "stdout",
     "output_type": "stream",
     "text": [
      "44100 16 2 10\n",
      "1.7 MB\n"
     ]
    }
   ],
   "source": [
    "#1084\n",
    "a=input().split()\n",
    "s=1\n",
    "for i in a:\n",
    "    s*=int(i)\n",
    "print(round(s / 8 / 1024 / 1024, 1), \"MB\")"
   ]
  },
  {
   "cell_type": "code",
   "execution_count": 36,
   "id": "c2ad402a",
   "metadata": {},
   "outputs": [],
   "source": [
    "#1085\n",
    "a=input().split()\n",
    "s=1\n",
    "for i in a:\n",
    "    s*=int(i)\n",
    "print(round(s / 8 / 1024 / 1024, 2), \"MB\")"
   ]
  },
  {
   "cell_type": "code",
   "execution_count": 110,
   "id": "281bb0b3",
   "metadata": {},
   "outputs": [
    {
     "name": "stdout",
     "output_type": "stream",
     "text": [
      "57\n",
      "66\n"
     ]
    }
   ],
   "source": [
    "#1086\n",
    "n=int(input())\n",
    "i=0\n",
    "s=0\n",
    "while s<n:\n",
    "    i+=1\n",
    "    s+=i\n",
    "print(s)"
   ]
  },
  {
   "cell_type": "code",
   "execution_count": 112,
   "id": "1f8b9cc7",
   "metadata": {},
   "outputs": [
    {
     "name": "stdout",
     "output_type": "stream",
     "text": [
      "10\n",
      "1 2 4 5 7 8 10 "
     ]
    }
   ],
   "source": [
    "#1087\n",
    "a=int(input())\n",
    "for i in range(1, a+1):\n",
    "    if i%3==0:\n",
    "        continue\n",
    "    else:\n",
    "        print(i, end=' ')"
   ]
  },
  {
   "cell_type": "code",
   "execution_count": 115,
   "id": "536c8add",
   "metadata": {},
   "outputs": [
    {
     "name": "stdout",
     "output_type": "stream",
     "text": [
      "1 3 5\n",
      "13\n"
     ]
    }
   ],
   "source": [
    "#1088\n",
    "a, b, c=input().split()\n",
    "a, b, c=int(a), int(b), int(c)\n",
    "for i in range(c-1):\n",
    "    a+=b\n",
    "print(a)"
   ]
  },
  {
   "cell_type": "code",
   "execution_count": 116,
   "id": "b9501f57",
   "metadata": {},
   "outputs": [
    {
     "name": "stdout",
     "output_type": "stream",
     "text": [
      "2 3 7\n",
      "1458\n"
     ]
    }
   ],
   "source": [
    "#1089\n",
    "a, b, c=input().split()\n",
    "a, b, c=int(a), int(b), int(c)\n",
    "for i in range(c-1):\n",
    "    a*=b\n",
    "print(a)"
   ]
  },
  {
   "cell_type": "code",
   "execution_count": 118,
   "id": "f2b039b7",
   "metadata": {},
   "outputs": [
    {
     "name": "stdout",
     "output_type": "stream",
     "text": [
      "1 -2 1 8\n",
      "-85\n"
     ]
    }
   ],
   "source": [
    "#1090\n",
    "a, b, c, d=input().split()\n",
    "a, b, c, d=int(a), int(b), int(c), int(d)\n",
    "for i in range(d-1):\n",
    "    a*=b\n",
    "    a+=c\n",
    "print(a)"
   ]
  },
  {
   "cell_type": "code",
   "execution_count": 120,
   "id": "2c5303db",
   "metadata": {},
   "outputs": [
    {
     "name": "stdout",
     "output_type": "stream",
     "text": [
      "3 7 9\n",
      "63\n"
     ]
    }
   ],
   "source": [
    "#1091\n",
    "a, b, c=[int(i) for i in input().split()]\n",
    "\n",
    "def gcd(x, y):\n",
    "    while y > 0:\n",
    "        x, y = y, x%y\n",
    "    return x\n",
    "\n",
    "a=a*b//gcd(a, b)\n",
    "print(a*c//gcd(a, c))"
   ]
  },
  {
   "cell_type": "code",
   "execution_count": 127,
   "id": "2046a334",
   "metadata": {},
   "outputs": [
    {
     "name": "stdout",
     "output_type": "stream",
     "text": [
      "10\n",
      "1 3 2 2 5 6 7 4 5 9\n",
      "1 2 1 1 2 1 1 0 1 0 0 0 0 0 0 0 0 0 0 0 0 0 0 "
     ]
    }
   ],
   "source": [
    "#1092\n",
    "n = int(input())\n",
    "a = map(int, input().split())\n",
    "c = [0 for i in range(23)]\n",
    "\n",
    "for i in a:\n",
    "    c[i-1]+=1\n",
    "\n",
    "for i in c:\n",
    "    print(i, end=' ')"
   ]
  },
  {
   "cell_type": "code",
   "execution_count": 133,
   "id": "3e0844c6",
   "metadata": {},
   "outputs": [
    {
     "name": "stdout",
     "output_type": "stream",
     "text": [
      "10\n",
      "10 4 2 3 6 6 7 9 8 5\n",
      "5 8 9 7 6 6 3 2 4 10 "
     ]
    }
   ],
   "source": [
    "#1093\n",
    "n = int(input())\n",
    "a = input().split()\n",
    "for i in range(n-1, -1, -1):\n",
    "    print(a[i], end=\" \")"
   ]
  },
  {
   "cell_type": "code",
   "execution_count": 138,
   "id": "98a6797f",
   "metadata": {},
   "outputs": [
    {
     "name": "stdout",
     "output_type": "stream",
     "text": [
      "4\n",
      "1 2 3 4\n",
      "1\n"
     ]
    }
   ],
   "source": [
    "#1094\n",
    "n = int(input())\n",
    "a = list(map(int, input().split()))\n",
    "a.sort()\n",
    "print(a[0])"
   ]
  },
  {
   "cell_type": "code",
   "execution_count": 157,
   "id": "28fa0650",
   "metadata": {},
   "outputs": [
    {
     "name": "stdout",
     "output_type": "stream",
     "text": [
      "5\n",
      "1 1\n",
      "2 2\n",
      "3 3\n",
      "4 4\n",
      "5 5\n",
      "1 0 0 0 0 0 0 0 0 0 0 0 0 0 0 0 0 0 0 \n",
      "0 1 0 0 0 0 0 0 0 0 0 0 0 0 0 0 0 0 0 \n",
      "0 0 1 0 0 0 0 0 0 0 0 0 0 0 0 0 0 0 0 \n",
      "0 0 0 1 0 0 0 0 0 0 0 0 0 0 0 0 0 0 0 \n",
      "0 0 0 0 1 0 0 0 0 0 0 0 0 0 0 0 0 0 0 \n",
      "0 0 0 0 0 0 0 0 0 0 0 0 0 0 0 0 0 0 0 \n",
      "0 0 0 0 0 0 0 0 0 0 0 0 0 0 0 0 0 0 0 \n",
      "0 0 0 0 0 0 0 0 0 0 0 0 0 0 0 0 0 0 0 \n",
      "0 0 0 0 0 0 0 0 0 0 0 0 0 0 0 0 0 0 0 \n",
      "0 0 0 0 0 0 0 0 0 0 0 0 0 0 0 0 0 0 0 \n",
      "0 0 0 0 0 0 0 0 0 0 0 0 0 0 0 0 0 0 0 \n",
      "0 0 0 0 0 0 0 0 0 0 0 0 0 0 0 0 0 0 0 \n",
      "0 0 0 0 0 0 0 0 0 0 0 0 0 0 0 0 0 0 0 \n",
      "0 0 0 0 0 0 0 0 0 0 0 0 0 0 0 0 0 0 0 \n",
      "0 0 0 0 0 0 0 0 0 0 0 0 0 0 0 0 0 0 0 \n",
      "0 0 0 0 0 0 0 0 0 0 0 0 0 0 0 0 0 0 0 \n",
      "0 0 0 0 0 0 0 0 0 0 0 0 0 0 0 0 0 0 0 \n",
      "0 0 0 0 0 0 0 0 0 0 0 0 0 0 0 0 0 0 0 \n",
      "0 0 0 0 0 0 0 0 0 0 0 0 0 0 0 0 0 0 0 \n"
     ]
    }
   ],
   "source": [
    "#1095\n",
    "n = int(input())\n",
    "a = [[0 for i in range(20)] for j in range(20)]\n",
    "for i in range(n):\n",
    "    x, y=list(map(int, input().split()))\n",
    "    a[x][y]=1\n",
    "\n",
    "for i in range(1, 20):\n",
    "    for j in range(1, 20):\n",
    "        print(a[i][j], end=' ')\n",
    "    print()"
   ]
  },
  {
   "cell_type": "code",
   "execution_count": 158,
   "id": "3b1b2469",
   "metadata": {},
   "outputs": [
    {
     "name": "stdout",
     "output_type": "stream",
     "text": [
      "0 0 0 0 0 0 0 0 0 1 0 1 0 0 0 0 0 0 0\n",
      "0 0 0 0 0 0 0 0 0 1 0 1 0 0 0 0 0 0 0\n",
      "0 0 0 0 0 0 0 0 0 1 0 1 0 0 0 0 0 0 0\n",
      "0 0 0 0 0 0 0 0 0 1 0 1 0 0 0 0 0 0 0\n",
      "0 0 0 0 0 0 0 0 0 1 0 1 0 0 0 0 0 0 0\n",
      "0 0 0 0 0 0 0 0 0 1 0 1 0 0 0 0 0 0 0\n",
      "0 0 0 0 0 0 0 0 0 1 0 1 0 0 0 0 0 0 0\n",
      "0 0 0 0 0 0 0 0 0 1 0 1 0 0 0 0 0 0 0\n",
      "0 0 0 0 0 0 0 0 0 1 0 1 0 0 0 0 0 0 0\n",
      "1 1 1 1 1 1 1 1 1 1 1 1 1 1 1 1 1 1 1\n",
      "0 0 0 0 0 0 0 0 0 1 0 1 0 0 0 0 0 0 0\n",
      "1 1 1 1 1 1 1 1 1 1 1 1 1 1 1 1 1 1 1\n",
      "0 0 0 0 0 0 0 0 0 1 0 1 0 0 0 0 0 0 0\n",
      "0 0 0 0 0 0 0 0 0 1 0 1 0 0 0 0 0 0 0\n",
      "0 0 0 0 0 0 0 0 0 1 0 1 0 0 0 0 0 0 0\n",
      "0 0 0 0 0 0 0 0 0 1 0 1 0 0 0 0 0 0 0\n",
      "0 0 0 0 0 0 0 0 0 1 0 1 0 0 0 0 0 0 0\n",
      "0 0 0 0 0 0 0 0 0 1 0 1 0 0 0 0 0 0 0\n",
      "0 0 0 0 0 0 0 0 0 1 0 1 0 0 0 0 0 0 0\n",
      "2\n",
      "10 10\n",
      "12 12\n",
      "0 0 0 0 0 0 0 0 0 0 0 0 0 0 0 0 0 0 0 \n",
      "0 0 0 0 0 0 0 0 0 0 0 0 0 0 0 0 0 0 0 \n",
      "0 0 0 0 0 0 0 0 0 0 0 0 0 0 0 0 0 0 0 \n",
      "0 0 0 0 0 0 0 0 0 0 0 0 0 0 0 0 0 0 0 \n",
      "0 0 0 0 0 0 0 0 0 0 0 0 0 0 0 0 0 0 0 \n",
      "0 0 0 0 0 0 0 0 0 0 0 0 0 0 0 0 0 0 0 \n",
      "0 0 0 0 0 0 0 0 0 0 0 0 0 0 0 0 0 0 0 \n",
      "0 0 0 0 0 0 0 0 0 0 0 0 0 0 0 0 0 0 0 \n",
      "0 0 0 0 0 0 0 0 0 0 0 0 0 0 0 0 0 0 0 \n",
      "0 0 0 0 0 0 0 0 0 1 0 1 0 0 0 0 0 0 0 \n",
      "0 0 0 0 0 0 0 0 0 0 0 0 0 0 0 0 0 0 0 \n",
      "0 0 0 0 0 0 0 0 0 1 0 1 0 0 0 0 0 0 0 \n",
      "0 0 0 0 0 0 0 0 0 0 0 0 0 0 0 0 0 0 0 \n",
      "0 0 0 0 0 0 0 0 0 0 0 0 0 0 0 0 0 0 0 \n",
      "0 0 0 0 0 0 0 0 0 0 0 0 0 0 0 0 0 0 0 \n",
      "0 0 0 0 0 0 0 0 0 0 0 0 0 0 0 0 0 0 0 \n",
      "0 0 0 0 0 0 0 0 0 0 0 0 0 0 0 0 0 0 0 \n",
      "0 0 0 0 0 0 0 0 0 0 0 0 0 0 0 0 0 0 0 \n",
      "0 0 0 0 0 0 0 0 0 0 0 0 0 0 0 0 0 0 0 \n"
     ]
    }
   ],
   "source": [
    "#1096\n",
    "field = [[0] for j in range(20)]\n",
    "for i in range(1, 20):\n",
    "    field[i].extend(list(map(int, input().split())))\n",
    "n=int(input())\n",
    "f=lambda x:(0 if x==1 else 1)\n",
    "\n",
    "for i in range(n):\n",
    "    x, y=list(map(int, input().split()))\n",
    "    for j in range(1, 20):\n",
    "        field[x][j]=f(field[x][j])\n",
    "        field[j][y]=f(field[j][y])\n",
    "\n",
    "for i in range(1, 20):\n",
    "    for j in range(1, 20):\n",
    "        print(field[i][j], end=' ')\n",
    "    print()"
   ]
  },
  {
   "cell_type": "code",
   "execution_count": 10,
   "id": "608eb051",
   "metadata": {},
   "outputs": [
    {
     "name": "stdout",
     "output_type": "stream",
     "text": [
      "5 5\n",
      "3\n",
      "2 0 1 1\n",
      "3 1 2 3\n",
      "4 1 2 5\n",
      "1 1 0 0 0 \n",
      "0 0 1 0 1 \n",
      "0 0 1 0 1 \n",
      "0 0 1 0 1 \n",
      "0 0 0 0 1 \n"
     ]
    }
   ],
   "source": [
    "#1097\n",
    "h, w=list(map(int, input().split()))\n",
    "n=int(input())\n",
    "dl=[[0 for i in range(w)] for j in range(h)]\n",
    "\n",
    "for i in range(n):\n",
    "    l, d, x, y=list(map(int, input().split()))\n",
    "    if d==0:\n",
    "        for j in range(y-1, l+y-1):\n",
    "            dl[x-1][j]=1\n",
    "    else:\n",
    "        for j in range(x-1, l+x-1):\n",
    "            dl[j][y-1]=1\n",
    "\n",
    "for i in range(h):\n",
    "    for j in range(w):\n",
    "        print(dl[i][j], end=' ')\n",
    "    print()\n",
    "    "
   ]
  },
  {
   "cell_type": "code",
   "execution_count": null,
   "id": "7a3e460e",
   "metadata": {},
   "outputs": [],
   "source": [
    "#1098"
   ]
  },
  {
   "cell_type": "code",
   "execution_count": null,
   "id": "294d0433",
   "metadata": {},
   "outputs": [],
   "source": []
  }
 ],
 "metadata": {
  "kernelspec": {
   "display_name": "Python 3",
   "language": "python",
   "name": "python3"
  },
  "language_info": {
   "codemirror_mode": {
    "name": "ipython",
    "version": 3
   },
   "file_extension": ".py",
   "mimetype": "text/x-python",
   "name": "python",
   "nbconvert_exporter": "python",
   "pygments_lexer": "ipython3",
   "version": "3.8.8"
  }
 },
 "nbformat": 4,
 "nbformat_minor": 5
}
