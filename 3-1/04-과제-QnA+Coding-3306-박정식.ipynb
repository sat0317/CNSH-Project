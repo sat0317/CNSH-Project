{
 "cells": [
  {
   "cell_type": "markdown",
   "id": "c1b1eba7",
   "metadata": {},
   "source": [
    "정형데이터: 미리 정해 놓은 형식과 구조에 따라 저장되도록 구성된 데이터<br>\n",
    "비정형데이터: 정의된 구조가 없이 정형화되지 않은 데이터. 대표적인 비정형 데이터에는 동영상 파일, 오디오 파일, 사진, 보고서(문서), 메일 본문 등이 있다"
   ]
  },
  {
   "cell_type": "code",
   "execution_count": 5,
   "id": "0c4a16ad",
   "metadata": {
    "scrolled": true
   },
   "outputs": [
    {
     "name": "stdout",
     "output_type": "stream",
     "text": [
      "12\n"
     ]
    }
   ],
   "source": [
    "a=input()"
   ]
  },
  {
   "cell_type": "code",
   "execution_count": 6,
   "id": "64dc81b1",
   "metadata": {},
   "outputs": [
    {
     "data": {
      "text/plain": [
       "str"
      ]
     },
     "execution_count": 6,
     "metadata": {},
     "output_type": "execute_result"
    }
   ],
   "source": [
    "type(a)"
   ]
  },
  {
   "cell_type": "code",
   "execution_count": 10,
   "id": "3b29bd13",
   "metadata": {},
   "outputs": [
    {
     "name": "stdout",
     "output_type": "stream",
     "text": [
      "12\n",
      "12.0\n",
      "(12+0j)\n",
      "0xc\n",
      "0b1100\n"
     ]
    }
   ],
   "source": [
    "print(int(a))\n",
    "print(float(a))\n",
    "print(complex(a))\n",
    "print(hex(int(a)))\n",
    "print(bin(int(a)))"
   ]
  },
  {
   "cell_type": "code",
   "execution_count": 19,
   "id": "bf22948e",
   "metadata": {},
   "outputs": [
    {
     "name": "stdout",
     "output_type": "stream",
     "text": [
      "chungnamsciencehighschool\n"
     ]
    }
   ],
   "source": [
    "b=input()"
   ]
  },
  {
   "cell_type": "code",
   "execution_count": 20,
   "id": "6f5f33c3",
   "metadata": {
    "scrolled": true
   },
   "outputs": [
    {
     "name": "stdout",
     "output_type": "stream",
     "text": [
      "ch\n",
      "chungnamsciencehighs\n",
      "amscienc\n"
     ]
    }
   ],
   "source": [
    "print(b[0:2])\n",
    "print(b[0:-5])\n",
    "print(b[6:-11])"
   ]
  },
  {
   "cell_type": "code",
   "execution_count": 23,
   "id": "58709b98",
   "metadata": {
    "scrolled": true
   },
   "outputs": [
    {
     "name": "stdout",
     "output_type": "stream",
     "text": [
      "[1, 2, 3, 4, 5] ['star', 'bana', 'yoger', 'fri'] [1, 5, 'A', 'CC', 'B']\n"
     ]
    }
   ],
   "source": [
    "addnum = [1, 2, 3, 4, 5]\n",
    "caf = ['star', 'bana', 'yoger', 'fri']\n",
    "A=[1, 5, 'A', 'CC', 'B']\n",
    "print(addnum, caf, A)"
   ]
  },
  {
   "cell_type": "code",
   "execution_count": 24,
   "id": "44fccf08",
   "metadata": {},
   "outputs": [
    {
     "name": "stdout",
     "output_type": "stream",
     "text": [
      "h\n",
      "u\n",
      "n\n",
      "g\n"
     ]
    }
   ],
   "source": [
    "for i in range(1, 5): print(b[i])"
   ]
  },
  {
   "cell_type": "code",
   "execution_count": 34,
   "id": "55ab4db5",
   "metadata": {},
   "outputs": [
    {
     "name": "stdout",
     "output_type": "stream",
     "text": [
      "hool\n"
     ]
    }
   ],
   "source": [
    "if b[0]=='a':\n",
    "    print(b[0:2])\n",
    "elif b[1]=='h':\n",
    "    print(b[-4:])\n",
    "else:\n",
    "    print(b[2:5])"
   ]
  },
  {
   "cell_type": "code",
   "execution_count": null,
   "id": "f8530d3b",
   "metadata": {},
   "outputs": [],
   "source": []
  }
 ],
 "metadata": {
  "kernelspec": {
   "display_name": "Python 3",
   "language": "python",
   "name": "python3"
  },
  "language_info": {
   "codemirror_mode": {
    "name": "ipython",
    "version": 3
   },
   "file_extension": ".py",
   "mimetype": "text/x-python",
   "name": "python",
   "nbconvert_exporter": "python",
   "pygments_lexer": "ipython3",
   "version": "3.8.8"
  }
 },
 "nbformat": 4,
 "nbformat_minor": 5
}
