{
  "nbformat": 4,
  "nbformat_minor": 0,
  "metadata": {
    "colab": {
      "name": "3306박정식 - 05-과제(List+반복문).ipynb",
      "provenance": [],
      "collapsed_sections": []
    },
    "kernelspec": {
      "name": "python3",
      "display_name": "Python 3"
    },
    "language_info": {
      "name": "python"
    }
  },
  "cells": [
    {
      "cell_type": "markdown",
      "source": [
        "# 리스트와 반복문 익히기"
      ],
      "metadata": {
        "id": "LV3ZLLfrP2Lv"
      }
    },
    {
      "cell_type": "code",
      "execution_count": null,
      "metadata": {
        "id": "P8LSS-DhPf71",
        "colab": {
          "base_uri": "https://localhost:8080/"
        },
        "outputId": "364c48f2-eb20-4b33-93c3-a654b7f09b11"
      },
      "outputs": [
        {
          "output_type": "stream",
          "name": "stdout",
          "text": [
            "ID: test\n",
            "test님, 가입을 환영합니다\n"
          ]
        }
      ],
      "source": [
        "print(input('ID: ')+'님, 가입을 환영합니다')"
      ]
    },
    {
      "cell_type": "code",
      "source": [
        "for i in [1, 2, 3, 4, 5]:\n",
        "  print(\"hello\")"
      ],
      "metadata": {
        "colab": {
          "base_uri": "https://localhost:8080/"
        },
        "id": "qC7roaUEnWIZ",
        "outputId": "56284ac2-f869-4450-ff04-4411ccd7ff8b"
      },
      "execution_count": null,
      "outputs": [
        {
          "output_type": "stream",
          "name": "stdout",
          "text": [
            "hello\n",
            "hello\n",
            "hello\n",
            "hello\n",
            "hello\n"
          ]
        }
      ]
    },
    {
      "cell_type": "code",
      "source": [
        "for a in range(1, 20):\n",
        "  print(a, \"times\")"
      ],
      "metadata": {
        "colab": {
          "base_uri": "https://localhost:8080/"
        },
        "id": "MSdFTYO4o_he",
        "outputId": "3c2b05cc-4625-489d-c867-2145872f5270"
      },
      "execution_count": null,
      "outputs": [
        {
          "output_type": "stream",
          "name": "stdout",
          "text": [
            "1 times\n",
            "2 times\n",
            "3 times\n",
            "4 times\n",
            "5 times\n",
            "6 times\n",
            "7 times\n",
            "8 times\n",
            "9 times\n",
            "10 times\n",
            "11 times\n",
            "12 times\n",
            "13 times\n",
            "14 times\n",
            "15 times\n",
            "16 times\n",
            "17 times\n",
            "18 times\n",
            "19 times\n"
          ]
        }
      ]
    },
    {
      "cell_type": "code",
      "source": [
        "res=0\n",
        "for i in range(1, 51):\n",
        "  res+=i\n",
        "print(res)"
      ],
      "metadata": {
        "colab": {
          "base_uri": "https://localhost:8080/"
        },
        "id": "Uq43O2w-qLme",
        "outputId": "6cefe282-b0e6-418b-a6ef-1ab8e9e15ae2"
      },
      "execution_count": null,
      "outputs": [
        {
          "output_type": "stream",
          "name": "stdout",
          "text": [
            "1275\n"
          ]
        }
      ]
    },
    {
      "cell_type": "code",
      "source": [
        "res=1\n",
        "for i in range(1, 51):\n",
        "  res*=i\n",
        "print(res)"
      ],
      "metadata": {
        "colab": {
          "base_uri": "https://localhost:8080/"
        },
        "id": "l3Y-4hZYqjMC",
        "outputId": "d2260329-d8f3-4364-d4d9-6ffa689d6aae"
      },
      "execution_count": null,
      "outputs": [
        {
          "output_type": "stream",
          "name": "stdout",
          "text": [
            "30414093201713378043612608166064768844377641568960512000000000000\n"
          ]
        }
      ]
    },
    {
      "cell_type": "code",
      "source": [
        "num=int(input('단: '))\n",
        "for i in range(1, 10):\n",
        "  print(num, '×', i, '=', num*i)"
      ],
      "metadata": {
        "colab": {
          "base_uri": "https://localhost:8080/"
        },
        "id": "sN1_Q2A8qnLd",
        "outputId": "316dbbbe-b6fd-4641-8898-e7c91fc53f68"
      },
      "execution_count": null,
      "outputs": [
        {
          "output_type": "stream",
          "name": "stdout",
          "text": [
            "단: 4\n",
            "4 × 1 = 4\n",
            "4 × 2 = 8\n",
            "4 × 3 = 12\n",
            "4 × 4 = 16\n",
            "4 × 5 = 20\n",
            "4 × 6 = 24\n",
            "4 × 7 = 28\n",
            "4 × 8 = 32\n",
            "4 × 9 = 36\n"
          ]
        }
      ]
    },
    {
      "cell_type": "code",
      "source": [
        "abc=[1, 2, 3, 4, 5]\n",
        "print(type(abc), abc, len(abc))"
      ],
      "metadata": {
        "colab": {
          "base_uri": "https://localhost:8080/"
        },
        "id": "BHfI3Sn3sHG1",
        "outputId": "10efc72e-35b3-4fba-c041-74888620a17c"
      },
      "execution_count": null,
      "outputs": [
        {
          "output_type": "stream",
          "name": "stdout",
          "text": [
            "<class 'list'> [1, 2, 3, 4, 5] 5\n"
          ]
        }
      ]
    },
    {
      "cell_type": "code",
      "source": [
        "spe=[1, 2, 3, 4, 5, 6, 7, 8, 9, 10, 11, 12]\n",
        "print('3월 지출 변경 전', spe)\n",
        "spe[2]+=10\n",
        "print('3월 지출 변경 후', spe)"
      ],
      "metadata": {
        "colab": {
          "base_uri": "https://localhost:8080/"
        },
        "id": "2_I781HztAoi",
        "outputId": "41070d7c-8911-4681-cedd-b9d0ba812351"
      },
      "execution_count": null,
      "outputs": [
        {
          "output_type": "stream",
          "name": "stdout",
          "text": [
            "3월 지출 변경 전 [1, 2, 3, 4, 5, 6, 7, 8, 9, 10, 11, 12]\n",
            "3월 지출 변경 후 [1, 2, 13, 4, 5, 6, 7, 8, 9, 10, 11, 12]\n"
          ]
        }
      ]
    },
    {
      "cell_type": "code",
      "source": [
        "food=[]\n",
        "food.append(\"고구마\")\n",
        "food.append(\"오리고기\")\n",
        "food.append(\"호랑이\")\n",
        "food"
      ],
      "metadata": {
        "colab": {
          "base_uri": "https://localhost:8080/"
        },
        "id": "UTcyRVWTtasP",
        "outputId": "4777a426-fbad-471c-f750-e738d55db535"
      },
      "execution_count": null,
      "outputs": [
        {
          "output_type": "execute_result",
          "data": {
            "text/plain": [
              "['고구마', '오리고기', '호랑이']"
            ]
          },
          "metadata": {},
          "execution_count": 13
        }
      ]
    },
    {
      "cell_type": "code",
      "source": [
        ""
      ],
      "metadata": {
        "id": "sY5MlduItpfs"
      },
      "execution_count": null,
      "outputs": []
    },
    {
      "cell_type": "markdown",
      "source": [
        "# 2022.03.25"
      ],
      "metadata": {
        "id": "fxDcXTxH0q6g"
      }
    },
    {
      "cell_type": "markdown",
      "source": [
        "![image.png](data:image/png;base64,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)"
      ],
      "metadata": {
        "id": "NBlK8xRL1k2e"
      }
    },
    {
      "cell_type": "code",
      "source": [
        "try:\n",
        "  day=int(input())\n",
        "  if day<=31:\n",
        "    if day%2==1:\n",
        "      print(\"홀수번호만 통행가능\")\n",
        "    else:\n",
        "      print(\"짝수번호만 통행가능\")\n",
        "  else:\n",
        "    print(\"올바른 날짜를 입력하세요.\")\n",
        "except:\n",
        "  print('please input \"day\"')"
      ],
      "metadata": {
        "id": "OCoj36tQ0uKt"
      },
      "execution_count": null,
      "outputs": []
    },
    {
      "cell_type": "markdown",
      "source": [
        "구구단을 외자"
      ],
      "metadata": {
        "id": "vFRplRpN383o"
      }
    },
    {
      "cell_type": "code",
      "source": [
        "import random\n",
        "for i in range(10):\n",
        "  a=random.randint(2, 9)\n",
        "  b=random.randint(1, 9)\n",
        "  print(a, '×', b, '? :', a*b)\n",
        "\n",
        "for i in range(10):\n",
        "  a=random.randint(2, 9)\n",
        "  b=random.randint(1, 9)\n",
        "  print(a, '×', b, '? : ', end='')\n",
        "  c=input()\n",
        "  if (str(a*b)==c):\n",
        "    print(\"정답입니다\")\n",
        "  else:\n",
        "    print(\"오답입니다. 정답:\", a*b)"
      ],
      "metadata": {
        "colab": {
          "base_uri": "https://localhost:8080/"
        },
        "id": "GfMZAVYA02DG",
        "outputId": "15553617-919a-4368-abe1-0b7291226bc5"
      },
      "execution_count": null,
      "outputs": [
        {
          "output_type": "stream",
          "name": "stdout",
          "text": [
            "6 × 7 ? : 42\n",
            "4 × 4 ? : 16\n",
            "8 × 5 ? : 40\n",
            "6 × 1 ? : 6\n",
            "3 × 9 ? : 27\n",
            "5 × 4 ? : 20\n",
            "6 × 9 ? : 54\n",
            "8 × 1 ? : 8\n",
            "4 × 3 ? : 12\n",
            "4 × 5 ? : 20\n",
            "6 × 1 ? : 6\n",
            "정답입니다\n",
            "6 × 4 ? : 24\n",
            "정답입니다\n",
            "5 × 5 ? : 25\n",
            "정답입니다\n",
            "5 × 1 ? : 1\n",
            "오답입니다. 정답: 5\n",
            "2 × 9 ? : 18\n",
            "정답입니다\n",
            "9 × 3 ? : 1\n",
            "오답입니다. 정답: 27\n",
            "6 × 8 ? : 1\n",
            "오답입니다. 정답: 48\n",
            "4 × 3 ? : 1\n",
            "오답입니다. 정답: 12\n",
            "7 × 2 ? : 1\n",
            "오답입니다. 정답: 14\n",
            "3 × 6 ? : 1\n",
            "오답입니다. 정답: 18\n"
          ]
        }
      ]
    },
    {
      "cell_type": "markdown",
      "source": [
        "# 리스트와 반복문 익히기"
      ],
      "metadata": {
        "id": "yoQRw2RNPQLO"
      }
    },
    {
      "cell_type": "markdown",
      "source": [
        "빈 리스트 생성, 자료 추가"
      ],
      "metadata": {
        "id": "S2q7njQDPjuy"
      }
    },
    {
      "cell_type": "code",
      "source": [
        "food=[]\n",
        "food.append(\"감자칩\")"
      ],
      "metadata": {
        "id": "4nJIwkza4jrp"
      },
      "execution_count": null,
      "outputs": []
    },
    {
      "cell_type": "code",
      "source": [
        "del food[0]"
      ],
      "metadata": {
        "id": "EWqkOLkUPg2a"
      },
      "execution_count": null,
      "outputs": []
    },
    {
      "cell_type": "code",
      "source": [
        "a='오리 날다  \\n체리필터 '\n",
        "print(a.split())"
      ],
      "metadata": {
        "colab": {
          "base_uri": "https://localhost:8080/"
        },
        "id": "cc8m-JgSQUDD",
        "outputId": "82897b02-16a2-4acb-f06a-d05573e70afd"
      },
      "execution_count": null,
      "outputs": [
        {
          "output_type": "stream",
          "name": "stdout",
          "text": [
            "['오리', '날다', '체리필터']\n"
          ]
        }
      ]
    },
    {
      "cell_type": "code",
      "source": [
        "test=[4, 23, 4,6 ,43,24,57,43 , 6,345, 753]\n",
        "test.sort()\n",
        "print(test)"
      ],
      "metadata": {
        "colab": {
          "base_uri": "https://localhost:8080/"
        },
        "id": "pQdvZeYpQnFS",
        "outputId": "6bae56a5-a72f-4f16-8019-c119febce9f0"
      },
      "execution_count": null,
      "outputs": [
        {
          "output_type": "stream",
          "name": "stdout",
          "text": [
            "[4, 4, 6, 6, 23, 24, 43, 43, 57, 345, 753]\n"
          ]
        }
      ]
    },
    {
      "cell_type": "code",
      "source": [
        "print(max(test), min(test))"
      ],
      "metadata": {
        "colab": {
          "base_uri": "https://localhost:8080/"
        },
        "id": "aPeffXZwRcfE",
        "outputId": "9baa71ed-a153-41e3-cf8b-58c14c62a0fb"
      },
      "execution_count": null,
      "outputs": [
        {
          "output_type": "stream",
          "name": "stdout",
          "text": [
            "753 4\n"
          ]
        }
      ]
    },
    {
      "cell_type": "code",
      "source": [
        "print(test.index(6))"
      ],
      "metadata": {
        "colab": {
          "base_uri": "https://localhost:8080/"
        },
        "id": "Wr6UEXNHR7l8",
        "outputId": "88e2c237-6a99-441a-c1e4-7b182f59550c"
      },
      "execution_count": null,
      "outputs": [
        {
          "output_type": "stream",
          "name": "stdout",
          "text": [
            "2\n"
          ]
        }
      ]
    },
    {
      "cell_type": "code",
      "source": [
        "animal=['너구리', '오리', '토끼', '앵무새']\n",
        "search=input(\"what you find?: \")\n",
        "if search in animal:\n",
        "  print(animal.index(search)+1, \"번째\")\n",
        "else:\n",
        "  print(search, \"is not in list\")"
      ],
      "metadata": {
        "colab": {
          "base_uri": "https://localhost:8080/"
        },
        "id": "tXzfHlxCSwMA",
        "outputId": "f0092b77-792a-4472-e909-0f47ae37e520"
      },
      "execution_count": null,
      "outputs": [
        {
          "output_type": "stream",
          "name": "stdout",
          "text": [
            "what you find?: 오리\n",
            "2 번째\n"
          ]
        }
      ]
    },
    {
      "cell_type": "code",
      "source": [
        "vava=[[1, 2, 3], [4, 5, 6], [7, 8, 9]]\n",
        "print(vava[1])\n",
        "print(vava[2][1])"
      ],
      "metadata": {
        "colab": {
          "base_uri": "https://localhost:8080/"
        },
        "id": "s2qS-OkETbyq",
        "outputId": "be3a51f7-bf37-40e0-a651-6a7cba334d45"
      },
      "execution_count": null,
      "outputs": [
        {
          "output_type": "stream",
          "name": "stdout",
          "text": [
            "[4, 5, 6]\n",
            "8\n"
          ]
        }
      ]
    },
    {
      "cell_type": "markdown",
      "source": [
        "Olympic"
      ],
      "metadata": {
        "id": "eE_1sgyzWJfK"
      }
    },
    {
      "cell_type": "code",
      "source": [
        "olympic=[[1, '미국', 46, 37, 38, 121], \n",
        "         [2, '영국', 27, 23, 17, 67], \n",
        "         [3, '중국', 26, 18, 26, 70],\n",
        "         [4, '러시아', 19, 18, 19, 55], \n",
        "         [5, '독일', 17, 10, 15, 42], \n",
        "         [6, '일본', 12, 8, 21, 42], \n",
        "         [7, '프랑스', 10, 18, 14, 42], \n",
        "         [8, '대한민국', 9, 3, 9, 21]]"
      ],
      "metadata": {
        "id": "ME7H3WUFUhlV"
      },
      "execution_count": null,
      "outputs": []
    },
    {
      "cell_type": "code",
      "source": [
        "print(olympic[:4])\n",
        "print(olympic[:4][1])"
      ],
      "metadata": {
        "colab": {
          "base_uri": "https://localhost:8080/"
        },
        "id": "A5vqqI9jWIoM",
        "outputId": "248c79f3-2e34-4ae9-9cc7-1ed9f0baad9e"
      },
      "execution_count": null,
      "outputs": [
        {
          "output_type": "stream",
          "name": "stdout",
          "text": [
            "[[1, '미국', 46, 37, 38, 121], [2, '영국', 27, 23, 17, 67], [3, '중국', 26, 18, 26, 70], [4, '러시아', 19, 18, 19, 55]]\n",
            "[2, '영국', 27, 23, 17, 67]\n"
          ]
        }
      ]
    },
    {
      "cell_type": "code",
      "source": [
        "for row in olympic:\n",
        "  a=row\n",
        "  print(a[1])"
      ],
      "metadata": {
        "colab": {
          "base_uri": "https://localhost:8080/"
        },
        "id": "YvyOFj2gWyM_",
        "outputId": "ef5ca095-6cbb-48ac-81fb-24cde50ec364"
      },
      "execution_count": null,
      "outputs": [
        {
          "output_type": "stream",
          "name": "stdout",
          "text": [
            "미국\n",
            "영국\n",
            "중국\n",
            "러시아\n",
            "독일\n",
            "일본\n",
            "프랑스\n",
            "대한민국\n"
          ]
        }
      ]
    },
    {
      "cell_type": "code",
      "source": [
        "for row in olympic:\n",
        "  if row[2]<row[3]:\n",
        "    print(row[1])"
      ],
      "metadata": {
        "colab": {
          "base_uri": "https://localhost:8080/"
        },
        "id": "wbIz9qHOXYgT",
        "outputId": "da65413a-3cf1-4a32-de8e-efa73b4fea23"
      },
      "execution_count": null,
      "outputs": [
        {
          "output_type": "stream",
          "name": "stdout",
          "text": [
            "프랑스\n"
          ]
        }
      ]
    },
    {
      "cell_type": "code",
      "source": [
        "for i in olympic[:4]:\n",
        "  print(i[1])"
      ],
      "metadata": {
        "id": "z4qIxCnmX6-8",
        "colab": {
          "base_uri": "https://localhost:8080/"
        },
        "outputId": "69336111-1546-4ceb-a181-684ff9def156"
      },
      "execution_count": null,
      "outputs": [
        {
          "output_type": "stream",
          "name": "stdout",
          "text": [
            "미국\n",
            "영국\n",
            "중국\n",
            "러시아\n"
          ]
        }
      ]
    },
    {
      "cell_type": "markdown",
      "source": [
        "# Dictionary"
      ],
      "metadata": {
        "id": "LbaCphyK0azU"
      }
    },
    {
      "cell_type": "code",
      "source": [
        "a={'word':'단어', 'wordle':'워들', 'world':'세계'}"
      ],
      "metadata": {
        "id": "7ypV8Tzizl6w"
      },
      "execution_count": 12,
      "outputs": []
    },
    {
      "cell_type": "code",
      "source": [
        "print(a, a['word'])"
      ],
      "metadata": {
        "colab": {
          "base_uri": "https://localhost:8080/"
        },
        "id": "nDH7U8aV0acm",
        "outputId": "1e4a543c-97dc-4ad3-a29b-20a12f7577c3"
      },
      "execution_count": 15,
      "outputs": [
        {
          "output_type": "stream",
          "name": "stdout",
          "text": [
            "{'word': '단어', 'wordle': '워들', 'world': '세계'} 단어\n"
          ]
        }
      ]
    },
    {
      "cell_type": "code",
      "source": [
        "import traceback\n",
        "try:\n",
        "  print(a['worldle'])\n",
        "except Exception as e:\n",
        "  print(e)\n",
        "  errn = traceback.format_exc()\n",
        "  print(errn)\n"
      ],
      "metadata": {
        "colab": {
          "base_uri": "https://localhost:8080/"
        },
        "id": "rZWT8Ko70aPN",
        "outputId": "7d89926e-b357-4050-c937-2ee23a8dcaca"
      },
      "execution_count": 23,
      "outputs": [
        {
          "output_type": "stream",
          "name": "stdout",
          "text": [
            "'worldle'\n",
            "Traceback (most recent call last):\n",
            "  File \"<ipython-input-23-b8642721ba1c>\", line 3, in <module>\n",
            "    print(a['worldle'])\n",
            "KeyError: 'worldle'\n",
            "\n"
          ]
        }
      ]
    },
    {
      "cell_type": "code",
      "source": [
        "del a['wordle']"
      ],
      "metadata": {
        "id": "bhlYUAHs1Y-1"
      },
      "execution_count": 20,
      "outputs": []
    },
    {
      "cell_type": "code",
      "source": [
        "a.keys()"
      ],
      "metadata": {
        "colab": {
          "base_uri": "https://localhost:8080/"
        },
        "id": "klImic7r2WPV",
        "outputId": "370d4172-a9e9-4026-9033-475b559ef587"
      },
      "execution_count": 21,
      "outputs": [
        {
          "output_type": "execute_result",
          "data": {
            "text/plain": [
              "dict_keys(['word', 'world'])"
            ]
          },
          "metadata": {},
          "execution_count": 21
        }
      ]
    },
    {
      "cell_type": "code",
      "source": [
        "a.values()"
      ],
      "metadata": {
        "colab": {
          "base_uri": "https://localhost:8080/"
        },
        "id": "_0jGfePG29Hw",
        "outputId": "1aa3d94d-a910-4e9d-e046-d0ae747af4b4"
      },
      "execution_count": 22,
      "outputs": [
        {
          "output_type": "execute_result",
          "data": {
            "text/plain": [
              "dict_values(['단어', '세계'])"
            ]
          },
          "metadata": {},
          "execution_count": 22
        }
      ]
    },
    {
      "cell_type": "code",
      "source": [
        "a.items()"
      ],
      "metadata": {
        "colab": {
          "base_uri": "https://localhost:8080/"
        },
        "id": "gU_l8Zlx2lql",
        "outputId": "b45a24c3-2176-4f7b-a616-4fe1c8e09e56"
      },
      "execution_count": 24,
      "outputs": [
        {
          "output_type": "execute_result",
          "data": {
            "text/plain": [
              "dict_items([('word', '단어'), ('world', '세계')])"
            ]
          },
          "metadata": {},
          "execution_count": 24
        }
      ]
    },
    {
      "cell_type": "code",
      "source": [
        ""
      ],
      "metadata": {
        "id": "7r8nzYut3QWi"
      },
      "execution_count": null,
      "outputs": []
    }
  ]
}