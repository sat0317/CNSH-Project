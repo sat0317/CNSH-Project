{
  "nbformat": 4,
  "nbformat_minor": 0,
  "metadata": {
    "colab": {
      "name": "10.ipynb",
      "provenance": [],
      "collapsed_sections": [],
      "authorship_tag": "ABX9TyNLUdsTCHYPIUtRjTDH8qyd"
    },
    "kernelspec": {
      "name": "python3",
      "display_name": "Python 3"
    },
    "language_info": {
      "name": "python"
    }
  },
  "cells": [
    {
      "cell_type": "code",
      "execution_count": null,
      "metadata": {
        "colab": {
          "base_uri": "https://localhost:8080/"
        },
        "id": "0O7xhPer50nU",
        "outputId": "e4f57c4d-aaaf-42ab-9fe6-25ce3cf37cbc"
      },
      "outputs": [
        {
          "output_type": "execute_result",
          "data": {
            "text/plain": [
              "[10, 20, 30, 70, 80, 90]"
            ]
          },
          "metadata": {},
          "execution_count": 1
        }
      ],
      "source": [
        "mid_scores = [10, 20, 30]\n",
        "final_scores = [70, 80, 90]\n",
        "total = mid_scores + final_scores\n",
        "total"
      ]
    },
    {
      "cell_type": "code",
      "source": [
        "double=mid_scores * 2\n",
        "double"
      ],
      "metadata": {
        "colab": {
          "base_uri": "https://localhost:8080/"
        },
        "id": "_55VPB8U6BHN",
        "outputId": "d6e9fa3e-3566-45c8-bded-1236ae27b1e9"
      },
      "execution_count": null,
      "outputs": [
        {
          "output_type": "execute_result",
          "data": {
            "text/plain": [
              "[10, 20, 30, 10, 20, 30]"
            ]
          },
          "metadata": {},
          "execution_count": 2
        }
      ]
    },
    {
      "cell_type": "code",
      "source": [
        "import numpy as np\n",
        "mid_scores = np.array([10, 20, 30])\n",
        "final_scores = np.array([70, 80, 90])\n",
        "total = mid_scores+final_scores\n",
        "print(total)"
      ],
      "metadata": {
        "id": "pXhhOj_96H_z",
        "colab": {
          "base_uri": "https://localhost:8080/"
        },
        "outputId": "bade1c75-b5cb-44f3-cb7d-6dce61f62f09"
      },
      "execution_count": null,
      "outputs": [
        {
          "output_type": "stream",
          "name": "stdout",
          "text": [
            "[ 80 100 120]\n"
          ]
        }
      ]
    },
    {
      "cell_type": "code",
      "source": [
        "a=np.array(range(1, 11))\n",
        "b=np.array(range(10, 101, 10))\n",
        "print(a+b)\n",
        "print(a-b)\n",
        "print(a*b)\n",
        "print(a/b)"
      ],
      "metadata": {
        "colab": {
          "base_uri": "https://localhost:8080/"
        },
        "id": "9vDXrvIRYxvr",
        "outputId": "d4f563b4-8e9f-44e7-dfdf-d57599f4dc8c"
      },
      "execution_count": null,
      "outputs": [
        {
          "output_type": "stream",
          "name": "stdout",
          "text": [
            "[ 11  22  33  44  55  66  77  88  99 110]\n",
            "[ -9 -18 -27 -36 -45 -54 -63 -72 -81 -90]\n",
            "[  10   40   90  160  250  360  490  640  810 1000]\n",
            "[0.1 0.1 0.1 0.1 0.1 0.1 0.1 0.1 0.1 0.1]\n"
          ]
        }
      ]
    },
    {
      "cell_type": "code",
      "source": [
        "a=np.array([1, 2, 3])"
      ],
      "metadata": {
        "id": "pCDPQZI-Y80o"
      },
      "execution_count": null,
      "outputs": []
    },
    {
      "cell_type": "code",
      "source": [
        "a.shape #형태"
      ],
      "metadata": {
        "colab": {
          "base_uri": "https://localhost:8080/"
        },
        "id": "zwHZ5hKrZ01B",
        "outputId": "d58d31d1-82b2-4314-c59f-c61dce36f01f"
      },
      "execution_count": null,
      "outputs": [
        {
          "output_type": "execute_result",
          "data": {
            "text/plain": [
              "(3,)"
            ]
          },
          "metadata": {},
          "execution_count": 4
        }
      ]
    },
    {
      "cell_type": "code",
      "source": [
        "a.ndim #차원"
      ],
      "metadata": {
        "colab": {
          "base_uri": "https://localhost:8080/"
        },
        "id": "QqIMbU2yZ1Zl",
        "outputId": "ab348eba-1bf7-4fda-eb49-971737d506ef"
      },
      "execution_count": null,
      "outputs": [
        {
          "output_type": "execute_result",
          "data": {
            "text/plain": [
              "1"
            ]
          },
          "metadata": {},
          "execution_count": 5
        }
      ]
    },
    {
      "cell_type": "code",
      "source": [
        "a.dtype #자료형"
      ],
      "metadata": {
        "colab": {
          "base_uri": "https://localhost:8080/"
        },
        "id": "sOISrIoHZ2VT",
        "outputId": "61bb4821-6c0f-43bc-8124-dfcce75479a2"
      },
      "execution_count": null,
      "outputs": [
        {
          "output_type": "execute_result",
          "data": {
            "text/plain": [
              "dtype('int64')"
            ]
          },
          "metadata": {},
          "execution_count": 6
        }
      ]
    },
    {
      "cell_type": "code",
      "source": [
        "a.itemsize #실제 메모리 크기"
      ],
      "metadata": {
        "colab": {
          "base_uri": "https://localhost:8080/"
        },
        "id": "VYs9Zx2wZ24J",
        "outputId": "ca982b21-5d0a-4a05-c6ac-bf8c9e1674fb"
      },
      "execution_count": null,
      "outputs": [
        {
          "output_type": "execute_result",
          "data": {
            "text/plain": [
              "8"
            ]
          },
          "metadata": {},
          "execution_count": 7
        }
      ]
    },
    {
      "cell_type": "code",
      "source": [
        "a.size #객체의 전체크기"
      ],
      "metadata": {
        "colab": {
          "base_uri": "https://localhost:8080/"
        },
        "id": "k0yjzZcOZ30A",
        "outputId": "a6bce084-3f6f-484c-8f3e-4be3f151c58c"
      },
      "execution_count": null,
      "outputs": [
        {
          "output_type": "execute_result",
          "data": {
            "text/plain": [
              "3"
            ]
          },
          "metadata": {},
          "execution_count": 8
        }
      ]
    },
    {
      "cell_type": "code",
      "source": [
        "# 넘파이 배열의 연산\n",
        "import numpy as np\n",
        "salary = [220, 250,230]\n",
        "salary = np.array([220, 250, 230])\n",
        "salary = salary + 100\n",
        "print(salary)\n",
        "\n",
        "salary = salary*2\n",
        "print(salary)\n",
        "\n",
        "salary = np.array([220, 250, 230])\n",
        "salary = salary * 2.1\n",
        "print(salary)"
      ],
      "metadata": {
        "colab": {
          "base_uri": "https://localhost:8080/"
        },
        "id": "56jL9ZGUZ4jj",
        "outputId": "28030bae-2327-4baf-f216-0f862874128e"
      },
      "execution_count": null,
      "outputs": [
        {
          "output_type": "stream",
          "name": "stdout",
          "text": [
            "[320 350 330]\n",
            "[640 700 660]\n",
            "[462. 525. 483.]\n"
          ]
        }
      ]
    },
    {
      "cell_type": "code",
      "source": [
        "# 여러 사람의 BMI 빠르고 간편하게 계산하기\n",
        "import numpy as np\n",
        "\n",
        "heights = [1.83, 1.76, 1.69, 1.86, 1.77, 1.73]\n",
        "weights = [86, 74, 59, 95, 80, 68]\n",
        "\n",
        "np_heights = np.array(heights)\n",
        "np_weights = np.array(weights)\n",
        "\n",
        "bmi = np_weights/(np_heights**2)\n",
        "print('대상자들의 키:', np_heights)\n",
        "print('대상자들의 몸무게:', np_weights)\n",
        "print('대상자들의 BMI')\n",
        "print(bmi)"
      ],
      "metadata": {
        "colab": {
          "base_uri": "https://localhost:8080/"
        },
        "id": "Nkv_tjaGvX69",
        "outputId": "89ae3a0a-5d92-45d7-c95a-81a64d4ec12d"
      },
      "execution_count": null,
      "outputs": [
        {
          "output_type": "stream",
          "name": "stdout",
          "text": [
            "대상자들의 키: [1.83 1.76 1.69 1.86 1.77 1.73]\n",
            "대상자들의 몸무게: [86 74 59 95 80 68]\n",
            "대상자들의 BMI\n",
            "[25.68007405 23.88946281 20.65754    27.45982194 25.53544639 22.72043837]\n"
          ]
        }
      ]
    },
    {
      "cell_type": "code",
      "source": [
        "# 넘파이에서의 인덱싱과 슬라이싱\n",
        "scores = [88, 72, 93, 94, 89, 78, 99]\n",
        "np_scores = np.array(scores)\n",
        "# scores[1:4] # 슬라이싱, 요소 집합 출력\n",
        "# scores[2] # 인덱싱, 특정한 요소 출력\n",
        "# scores[-3:-1] # 음수 인덱스 사용\n",
        "scores[1:-2] # 음수, 양수 인덱스 섞어 사용"
      ],
      "metadata": {
        "colab": {
          "base_uri": "https://localhost:8080/"
        },
        "id": "e_qBUdBCvaab",
        "outputId": "94139798-fce5-44ed-a9fd-f96a19d49805"
      },
      "execution_count": null,
      "outputs": [
        {
          "output_type": "execute_result",
          "data": {
            "text/plain": [
              "[72, 93, 94, 89]"
            ]
          },
          "metadata": {},
          "execution_count": 11
        }
      ]
    },
    {
      "cell_type": "code",
      "source": [
        "# 논리적인 인덱싱 : 어떤 조건을 주고 배열에서 원하는 값 구하기\n",
        "ages = np.array([18, 19, 25, 30, 28])\n",
        "y = ages > 20 # 20살 이상인 사람만 고르기\n",
        "print(y)"
      ],
      "metadata": {
        "colab": {
          "base_uri": "https://localhost:8080/"
        },
        "id": "dRdYOI1dvcN-",
        "outputId": "22c279e2-f8c6-40b8-fca5-d430187dac78"
      },
      "execution_count": null,
      "outputs": [
        {
          "output_type": "stream",
          "name": "stdout",
          "text": [
            "[False False  True  True  True]\n"
          ]
        }
      ]
    },
    {
      "cell_type": "code",
      "source": [
        "ages[ages > 20]"
      ],
      "metadata": {
        "colab": {
          "base_uri": "https://localhost:8080/"
        },
        "id": "ucwqBKCMvfhH",
        "outputId": "40cb1b45-cd23-471d-ca4c-dd91b19995cc"
      },
      "execution_count": null,
      "outputs": [
        {
          "output_type": "execute_result",
          "data": {
            "text/plain": [
              "array([25, 30, 28])"
            ]
          },
          "metadata": {},
          "execution_count": 14
        }
      ]
    },
    {
      "cell_type": "code",
      "source": [
        "# 난수 생성\n",
        "np.random.rand(5)\n",
        "np.random.rand(5,3) # 난수로 이루어진 2차원 배열\n",
        "a = 10\n",
        "b = 20\n",
        "b-a * np.random.rand(5) + a\n",
        "np.random.randint(1, 11, size=(4,7) ) #1부터 (11- 1)=10 사이"
      ],
      "metadata": {
        "colab": {
          "base_uri": "https://localhost:8080/"
        },
        "id": "kAyaOVC1vinf",
        "outputId": "ee47415b-d31f-4c6a-efdf-df177fb8ad8d"
      },
      "execution_count": null,
      "outputs": [
        {
          "output_type": "execute_result",
          "data": {
            "text/plain": [
              "array([[2, 2, 4, 8, 7, 9, 8],\n",
              "       [8, 4, 5, 4, 8, 8, 7],\n",
              "       [4, 3, 1, 5, 5, 5, 5],\n",
              "       [8, 4, 8, 1, 1, 6, 2]])"
            ]
          },
          "metadata": {},
          "execution_count": 19
        }
      ]
    },
    {
      "cell_type": "code",
      "source": [
        ""
      ],
      "metadata": {
        "id": "EkD1kW6gvo3Q"
      },
      "execution_count": null,
      "outputs": []
    }
  ]
}