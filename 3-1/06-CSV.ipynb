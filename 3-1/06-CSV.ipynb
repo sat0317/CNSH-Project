{
  "cells": [
    {
      "cell_type": "markdown",
      "id": "f14f3768",
      "metadata": {
        "id": "f14f3768"
      },
      "source": [
        "# CSV 파일 다루기 \n",
        "쉼표로 구분된 텍스트 파일<br><br>\n",
        "\n",
        "# 절차: 파일 열기 -> 파일 읽기 -> 헤더 제거 -> 리스트 변환\n",
        "열기: Open()으로 파일 열기<br>\n",
        "읽기: csv.reader()에서 파일 저장한 변수 넣기<br>\n",
        "헤더제거: next()으로 행 건너뛰기<br>\n",
        "리스트 변환: list()<br>"
      ]
    },
    {
      "cell_type": "code",
      "execution_count": null,
      "id": "5831ba72",
      "metadata": {
        "id": "5831ba72",
        "outputId": "016877cf-2cc6-4a35-be38-839bc56c2ac8"
      },
      "outputs": [
        {
          "name": "stdout",
          "output_type": "stream",
          "text": [
            "('\\ufeff1', '미국', '46', '37', '38', '121')\n",
            "('2', '영국', '27', '23', '17', '67')\n",
            "('3', '중국', '26', '18', '26', '70')\n",
            "('4', '러시아', '19', '18', '19', '55')\n",
            "('5', '독일', '17', '10', '15', '42')\n",
            "('6', '일본', '12', '8', '21', '41')\n",
            "('7', '프랑스', '10', '18', '14', '42')\n",
            "('8', '대한민국', '9', '3', '9', '21')\n"
          ]
        }
      ],
      "source": [
        "import csv\n",
        "with open('olympic.csv', newline='', encoding='UTF8') as f:\n",
        "    reader = csv.reader(f)\n",
        "    data=[tuple(row) for row in reader]\n",
        "for i in data:\n",
        "    print(i)\n",
        "f.close()"
      ]
    },
    {
      "cell_type": "code",
      "execution_count": null,
      "id": "3932ee13",
      "metadata": {
        "id": "3932ee13",
        "outputId": "c64b43a8-7e37-40b3-d943-bdc478c031fb"
      },
      "outputs": [
        {
          "name": "stdout",
          "output_type": "stream",
          "text": [
            "('1', '미국', '46', '37', '38', '121')\n",
            "('2', '영국', '27', '23', '17', '67')\n",
            "('3', '중국', '26', '18', '26', '70')\n",
            "('4', '러시아', '19', '18', '19', '55')\n",
            "('5', '독일', '17', '10', '15', '42')\n",
            "('6', '일본', '12', '8', '21', '41')\n",
            "('7', '프랑스', '10', '18', '14', '42')\n",
            "('8', '대한민국', '9', '3', '9', '21')\n"
          ]
        }
      ],
      "source": [
        "import csv\n",
        "with open('olympic.csv', newline='', encoding='UTF-8-sig') as f:\n",
        "    reader = csv.reader(f)\n",
        "    data=[tuple(row) for row in reader]\n",
        "for i in data:\n",
        "    print(i)\n",
        "f.close()"
      ]
    },
    {
      "cell_type": "code",
      "execution_count": null,
      "id": "584027e5",
      "metadata": {
        "colab": {
          "base_uri": "https://localhost:8080/"
        },
        "id": "584027e5",
        "outputId": "1e9ec363-968f-4b49-ea8f-e9670bfe8f8f"
      },
      "outputs": [
        {
          "output_type": "stream",
          "name": "stdout",
          "text": [
            "one\n",
            "two\n",
            "three\n",
            "four\n",
            "five\n",
            "one\n",
            "two\n",
            "three\n",
            "four\n",
            "five\n"
          ]
        }
      ],
      "source": [
        "numbers = ['one', 'two', 'three', 'four', 'five']\n",
        "\n",
        "for n in numbers:\n",
        "  print(n)\n",
        "for n in range(len(numbers)):\n",
        "  print(numbers[n])"
      ]
    },
    {
      "cell_type": "markdown",
      "source": [
        "점프 투 파이썬, 코딩도장 참고하기!"
      ],
      "metadata": {
        "id": "uXpavXaHsFEB"
      },
      "id": "uXpavXaHsFEB"
    },
    {
      "cell_type": "code",
      "source": [
        "f = open(\"/content/crypto1.txt\", 'r')\n",
        "data=f.read()\n",
        "print(data)\n",
        "f.close()"
      ],
      "metadata": {
        "colab": {
          "base_uri": "https://localhost:8080/"
        },
        "id": "NFLDClUaqrSN",
        "outputId": "5d93204c-b49e-4d3a-fd89-63d826b6f367"
      },
      "id": "NFLDClUaqrSN",
      "execution_count": null,
      "outputs": [
        {
          "output_type": "stream",
          "name": "stdout",
          "text": [
            "I think tｈat \n",
            "you ϲannot know \n",
            "whａｔ this means!\n"
          ]
        }
      ]
    },
    {
      "cell_type": "code",
      "source": [
        "f = open(\"/content/crypto1.txt\", 'r')\n",
        "while True:\n",
        "  line=f.readline()\n",
        "  if not line: break\n",
        "  print(line)\n",
        "f.close()"
      ],
      "metadata": {
        "colab": {
          "base_uri": "https://localhost:8080/"
        },
        "id": "pzAJkbEpsv8Y",
        "outputId": "173deb24-ab3a-4ba2-9f92-6a88cd2e2941"
      },
      "id": "pzAJkbEpsv8Y",
      "execution_count": null,
      "outputs": [
        {
          "output_type": "stream",
          "name": "stdout",
          "text": [
            "I think tｈat \n",
            "\n",
            "you ϲannot know \n",
            "\n",
            "whａｔ this means!\n"
          ]
        }
      ]
    },
    {
      "cell_type": "code",
      "source": [
        "f = open(\"/content/crypto1.txt\", 'r')\n",
        "lines=f.readlines()\n",
        "for line in lines:\n",
        "  print(line)\n",
        "f.close()"
      ],
      "metadata": {
        "colab": {
          "base_uri": "https://localhost:8080/"
        },
        "id": "UkCdLsFvt1y4",
        "outputId": "df76291d-fb69-4e5a-a9ba-0a4812c02027"
      },
      "id": "UkCdLsFvt1y4",
      "execution_count": null,
      "outputs": [
        {
          "output_type": "stream",
          "name": "stdout",
          "text": [
            "I think tｈat \n",
            "\n",
            "you ϲannot know \n",
            "\n",
            "whａｔ this means!\n"
          ]
        }
      ]
    },
    {
      "cell_type": "code",
      "source": [
        "f = open(\"/content/text.txt\", 'a')\n",
        "for i in range(1, 10):\n",
        "  data = \"{}번째 줄입니다\\n\".format(i)\n",
        "  f.write(data)\n",
        "f.close()"
      ],
      "metadata": {
        "id": "ZT24wKkdu2Ec"
      },
      "id": "ZT24wKkdu2Ec",
      "execution_count": null,
      "outputs": []
    },
    {
      "cell_type": "code",
      "source": [
        "f = open(\"/content/text.txt\", 'w')\n",
        "for i in range(1, 10):\n",
        "  data = \"{}번째 줄입니다\\n\".format(i)\n",
        "  f.write(data)\n",
        "f.close()"
      ],
      "metadata": {
        "id": "Q79AJfs_vfl3"
      },
      "id": "Q79AJfs_vfl3",
      "execution_count": null,
      "outputs": []
    },
    {
      "cell_type": "code",
      "source": [
        "emo = input()\n",
        "try:\n",
        "  f = open(\"/content/now.txt\", 'w')\n",
        "except FileNotFoundError:\n",
        "  f = open(\"/content/now.txt\", 'a')\n",
        "f.write(emo)\n",
        "f.close()\n",
        "\n",
        "f = open(\"/content/now.txt\", 'r')\n",
        "print(\"지금 내 기분: {}\".format(f.read()))"
      ],
      "metadata": {
        "colab": {
          "base_uri": "https://localhost:8080/"
        },
        "id": "umzg5J_Kwu75",
        "outputId": "7574c18a-18f0-4ae6-9a72-32316ab8f580"
      },
      "id": "umzg5J_Kwu75",
      "execution_count": null,
      "outputs": [
        {
          "output_type": "stream",
          "name": "stdout",
          "text": [
            "Supercalifragilisticexpialidocious\n",
            "지금 내 기분: Supercalifragilisticexpialidocious\n"
          ]
        }
      ]
    },
    {
      "cell_type": "code",
      "source": [
        "  "
      ],
      "metadata": {
        "id": "awQdoXvKxVy1"
      },
      "id": "awQdoXvKxVy1",
      "execution_count": null,
      "outputs": []
    }
  ],
  "metadata": {
    "kernelspec": {
      "display_name": "Python 3",
      "language": "python",
      "name": "python3"
    },
    "language_info": {
      "codemirror_mode": {
        "name": "ipython",
        "version": 3
      },
      "file_extension": ".py",
      "mimetype": "text/x-python",
      "name": "python",
      "nbconvert_exporter": "python",
      "pygments_lexer": "ipython3",
      "version": "3.8.8"
    },
    "colab": {
      "name": "06-CSV.ipynb",
      "provenance": [],
      "collapsed_sections": []
    }
  },
  "nbformat": 4,
  "nbformat_minor": 5
}