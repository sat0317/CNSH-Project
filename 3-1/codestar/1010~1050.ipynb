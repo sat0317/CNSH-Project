{
 "cells": [
  {
   "cell_type": "code",
   "execution_count": 1,
   "id": "b56361d0",
   "metadata": {},
   "outputs": [
    {
     "name": "stdout",
     "output_type": "stream",
     "text": [
      "a\n",
      "a\n"
     ]
    }
   ],
   "source": [
    "print(input()) #1010, 1011"
   ]
  },
  {
   "cell_type": "code",
   "execution_count": 2,
   "id": "e2f805db",
   "metadata": {},
   "outputs": [
    {
     "name": "stdout",
     "output_type": "stream",
     "text": [
      "1\n",
      "1\n",
      "1\n",
      "1\n"
     ]
    }
   ],
   "source": [
    "#1012\n",
    "print(input())\n",
    "print(input())"
   ]
  },
  {
   "cell_type": "code",
   "execution_count": 3,
   "id": "8c383027",
   "metadata": {},
   "outputs": [
    {
     "name": "stdout",
     "output_type": "stream",
     "text": [
      "a\n",
      "v\n",
      "v\n",
      "a\n"
     ]
    }
   ],
   "source": [
    "#1013\n",
    "a=input()\n",
    "b=input()\n",
    "print(b, a, sep='\\n')"
   ]
  },
  {
   "cell_type": "code",
   "execution_count": 4,
   "id": "198b6b12",
   "metadata": {},
   "outputs": [
    {
     "name": "stdout",
     "output_type": "stream",
     "text": [
      "1\n",
      "1\n",
      "1\n",
      "1\n"
     ]
    }
   ],
   "source": [
    "#1014\n",
    "a=input()\n",
    "print(a, a, a, sep='\\n')"
   ]
  },
  {
   "cell_type": "code",
   "execution_count": 6,
   "id": "a4edd909",
   "metadata": {},
   "outputs": [
    {
     "name": "stdout",
     "output_type": "stream",
     "text": [
      "1 3\n",
      "1\n",
      "3\n"
     ]
    }
   ],
   "source": [
    "#1015\n",
    "a, b=input().split(' ')\n",
    "print(a, b, sep='\\n')"
   ]
  },
  {
   "cell_type": "code",
   "execution_count": 7,
   "id": "d5dc55cb",
   "metadata": {},
   "outputs": [
    {
     "name": "stdout",
     "output_type": "stream",
     "text": [
      "a b\n",
      "b a\n"
     ]
    }
   ],
   "source": [
    "#1016\n",
    "a, b=input().split(' ')\n",
    "print(b, a)"
   ]
  },
  {
   "cell_type": "code",
   "execution_count": 8,
   "id": "d4b90595",
   "metadata": {},
   "outputs": [
    {
     "name": "stdout",
     "output_type": "stream",
     "text": [
      "c s\n",
      "c s c s c s \n"
     ]
    }
   ],
   "source": [
    "#1017\n",
    "print((input()+' ')*3)"
   ]
  },
  {
   "cell_type": "code",
   "execution_count": 10,
   "id": "a03b447e",
   "metadata": {},
   "outputs": [
    {
     "name": "stdout",
     "output_type": "stream",
     "text": [
      "10:20\n",
      "10:20\n"
     ]
    }
   ],
   "source": [
    "print(input()) #1018"
   ]
  },
  {
   "cell_type": "code",
   "execution_count": 11,
   "id": "cf01c206",
   "metadata": {},
   "outputs": [
    {
     "name": "stdout",
     "output_type": "stream",
     "text": [
      "10.20.30\n",
      "30-20-10\n"
     ]
    }
   ],
   "source": [
    "#1019\n",
    "a, b, c=input().split('.')\n",
    "print(c, b, a, sep='-')"
   ]
  },
  {
   "cell_type": "code",
   "execution_count": 13,
   "id": "b87eb957",
   "metadata": {},
   "outputs": [
    {
     "name": "stdout",
     "output_type": "stream",
     "text": [
      "asdfg\n",
      "a\n",
      "s\n",
      "d\n",
      "f\n",
      "g\n"
     ]
    }
   ],
   "source": [
    "#1021\n",
    "s = input()\n",
    "for i in s:\n",
    "    print(i)"
   ]
  },
  {
   "cell_type": "code",
   "execution_count": 14,
   "id": "29051c36",
   "metadata": {},
   "outputs": [
    {
     "name": "stdout",
     "output_type": "stream",
     "text": [
      "102030\n",
      "10 20 30\n"
     ]
    }
   ],
   "source": [
    "#1022\n",
    "s=input()\n",
    "print(s[0:2], s[2:4], s[4:6])"
   ]
  },
  {
   "cell_type": "code",
   "execution_count": 15,
   "id": "2294b909",
   "metadata": {},
   "outputs": [
    {
     "name": "stdout",
     "output_type": "stream",
     "text": [
      "12:34:56\n",
      "34\n"
     ]
    }
   ],
   "source": [
    "#1023\n",
    "s=input().split(':')\n",
    "print(s[1])"
   ]
  },
  {
   "cell_type": "code",
   "execution_count": 17,
   "id": "28f73735",
   "metadata": {},
   "outputs": [
    {
     "name": "stdout",
     "output_type": "stream",
     "text": [
      "test test\n",
      "testtest\n"
     ]
    }
   ],
   "source": [
    "#1024\n",
    "s=input().replace(' ', '')\n",
    "print(s)"
   ]
  },
  {
   "cell_type": "code",
   "execution_count": 18,
   "id": "d08c3503",
   "metadata": {},
   "outputs": [
    {
     "name": "stdout",
     "output_type": "stream",
     "text": [
      "1 2\n",
      "3\n"
     ]
    }
   ],
   "source": [
    "#1025\n",
    "a, b = input().split()\n",
    "c = int(a) + int(b)\n",
    "print(c)"
   ]
  },
  {
   "cell_type": "code",
   "execution_count": 4,
   "id": "bc7c34b1",
   "metadata": {},
   "outputs": [
    {
     "name": "stdout",
     "output_type": "stream",
     "text": [
      "1.2\n",
      "2.3\n",
      "3.5\n"
     ]
    }
   ],
   "source": [
    "#1026\n",
    "a=input()\n",
    "b=input()\n",
    "c = float(a) + float(b)\n",
    "print(c)"
   ]
  },
  {
   "cell_type": "code",
   "execution_count": 7,
   "id": "fb67c4f7",
   "metadata": {},
   "outputs": [
    {
     "name": "stdout",
     "output_type": "stream",
     "text": [
      "12\n",
      "c\n"
     ]
    }
   ],
   "source": [
    "#1027\n",
    "a=input()\n",
    "a=int(a)\n",
    "print('%x'%a)"
   ]
  },
  {
   "cell_type": "code",
   "execution_count": 8,
   "id": "07f52edb",
   "metadata": {},
   "outputs": [
    {
     "name": "stdout",
     "output_type": "stream",
     "text": [
      "13\n",
      "D\n"
     ]
    }
   ],
   "source": [
    "#1028\n",
    "a=input()\n",
    "a=int(a)\n",
    "print('%X'%a)"
   ]
  },
  {
   "cell_type": "code",
   "execution_count": 9,
   "id": "f81aef7e",
   "metadata": {},
   "outputs": [
    {
     "name": "stdout",
     "output_type": "stream",
     "text": [
      "20\n",
      "40\n"
     ]
    }
   ],
   "source": [
    "#1029\n",
    "a=input()\n",
    "a=int(a, 16)\n",
    "print('%o'%a)"
   ]
  },
  {
   "cell_type": "code",
   "execution_count": 12,
   "id": "1f30924b",
   "metadata": {},
   "outputs": [
    {
     "name": "stdout",
     "output_type": "stream",
     "text": [
      "e\n",
      "101\n"
     ]
    }
   ],
   "source": [
    "#1030\n",
    "print(ord(input()))"
   ]
  },
  {
   "cell_type": "code",
   "execution_count": 15,
   "id": "95b2aea7",
   "metadata": {},
   "outputs": [
    {
     "name": "stdout",
     "output_type": "stream",
     "text": [
      "65\n",
      "A\n"
     ]
    }
   ],
   "source": [
    "#1031\n",
    "print(chr(int(input())))"
   ]
  },
  {
   "cell_type": "code",
   "execution_count": 16,
   "id": "a5b63745",
   "metadata": {},
   "outputs": [
    {
     "name": "stdout",
     "output_type": "stream",
     "text": [
      "3\n",
      "-3\n"
     ]
    }
   ],
   "source": [
    "#1032\n",
    "print(-int(input()))"
   ]
  },
  {
   "cell_type": "code",
   "execution_count": 17,
   "id": "34c83c3e",
   "metadata": {},
   "outputs": [
    {
     "name": "stdout",
     "output_type": "stream",
     "text": [
      "3\n",
      "4\n"
     ]
    }
   ],
   "source": [
    "#1033\n",
    "print(chr(ord(input())+1))"
   ]
  },
  {
   "cell_type": "code",
   "execution_count": 18,
   "id": "f12ff1aa",
   "metadata": {},
   "outputs": [
    {
     "name": "stdout",
     "output_type": "stream",
     "text": [
      "123 123\n",
      "0\n"
     ]
    }
   ],
   "source": [
    "#1034\n",
    "a, b=input().split()\n",
    "c = int(a) - int(b)\n",
    "print(c)"
   ]
  },
  {
   "cell_type": "code",
   "execution_count": 19,
   "id": "3032f076",
   "metadata": {},
   "outputs": [
    {
     "name": "stdout",
     "output_type": "stream",
     "text": [
      "1 2\n",
      "2.0\n"
     ]
    }
   ],
   "source": [
    "#1034\n",
    "a, b=input().split()\n",
    "c = float(a)*float(b)\n",
    "print(c)"
   ]
  },
  {
   "cell_type": "code",
   "execution_count": 21,
   "id": "7a0db309",
   "metadata": {},
   "outputs": [
    {
     "name": "stdout",
     "output_type": "stream",
     "text": [
      "1 12\n",
      "111111111111\n"
     ]
    }
   ],
   "source": [
    "#1036\n",
    "w, n = input().split()\n",
    "print(w*int(n))"
   ]
  },
  {
   "cell_type": "code",
   "execution_count": 22,
   "id": "44456166",
   "metadata": {},
   "outputs": [
    {
     "name": "stdout",
     "output_type": "stream",
     "text": [
      "3\n",
      "ils\n",
      "ilsilsils\n"
     ]
    }
   ],
   "source": [
    "#1037\n",
    "n=int(input())\n",
    "s=input()\n",
    "print(s*n)"
   ]
  },
  {
   "cell_type": "code",
   "execution_count": 23,
   "id": "95288e81",
   "metadata": {},
   "outputs": [
    {
     "name": "stdout",
     "output_type": "stream",
     "text": [
      "1 2\n",
      "1\n"
     ]
    }
   ],
   "source": [
    "#1038\n",
    "a, b=input().split()\n",
    "print(int(a)**int(b))"
   ]
  },
  {
   "cell_type": "code",
   "execution_count": 24,
   "id": "83f9dfca",
   "metadata": {},
   "outputs": [
    {
     "name": "stdout",
     "output_type": "stream",
     "text": [
      "2.3 3.5\n",
      "18.45216910555504\n"
     ]
    }
   ],
   "source": [
    "#1039\n",
    "a, b=input().split()\n",
    "print(float(a)**float(b))"
   ]
  },
  {
   "cell_type": "code",
   "execution_count": 26,
   "id": "c7fed190",
   "metadata": {},
   "outputs": [
    {
     "name": "stdout",
     "output_type": "stream",
     "text": [
      "12 12\n",
      "1\n"
     ]
    }
   ],
   "source": [
    "#1040\n",
    "a, b=input().split()\n",
    "print(int(a)//int(b))"
   ]
  },
  {
   "cell_type": "code",
   "execution_count": 27,
   "id": "e887b1e9",
   "metadata": {},
   "outputs": [
    {
     "name": "stdout",
     "output_type": "stream",
     "text": [
      "3 2\n",
      "1\n"
     ]
    }
   ],
   "source": [
    "#1041\n",
    "a, b=input().split()\n",
    "print(int(a)%int(b))"
   ]
  },
  {
   "cell_type": "code",
   "execution_count": 28,
   "id": "076ced90",
   "metadata": {},
   "outputs": [
    {
     "name": "stdout",
     "output_type": "stream",
     "text": [
      "23.3242\n",
      "23.32\n"
     ]
    }
   ],
   "source": [
    "#1042\n",
    "print(round(float(input()), 2))"
   ]
  },
  {
   "cell_type": "code",
   "execution_count": 32,
   "id": "54f8f3c3",
   "metadata": {},
   "outputs": [
    {
     "name": "stdout",
     "output_type": "stream",
     "text": [
      "10 3\n",
      "3.333\n"
     ]
    }
   ],
   "source": [
    "#1043\n",
    "a, b=input().split()\n",
    "print(round(float(a)/float(b), 3))"
   ]
  },
  {
   "cell_type": "code",
   "execution_count": 35,
   "id": "c0042961",
   "metadata": {},
   "outputs": [
    {
     "name": "stdout",
     "output_type": "stream",
     "text": [
      "10 3\n",
      "13\n",
      "7\n",
      "30\n",
      "3\n",
      "1\n",
      "3.33\n"
     ]
    }
   ],
   "source": [
    "#1044\n",
    "a, b=input().split()\n",
    "a=int(a)\n",
    "b=int(b)\n",
    "print(a+b, a-b, a*b, a//b, a%b, round(a/b, 2), sep='\\n')"
   ]
  },
  {
   "cell_type": "code",
   "execution_count": 37,
   "id": "48856d95",
   "metadata": {},
   "outputs": [
    {
     "name": "stdout",
     "output_type": "stream",
     "text": [
      "1 2 3\n",
      "6 2.0\n"
     ]
    }
   ],
   "source": [
    "#1045\n",
    "a, b, c=input().split()\n",
    "a, b, c=int(a), int(b), int(c)\n",
    "print(a+b+c, round((a+b+c)/3, 2))"
   ]
  },
  {
   "cell_type": "code",
   "execution_count": 39,
   "id": "1ac1c2d7",
   "metadata": {},
   "outputs": [
    {
     "name": "stdout",
     "output_type": "stream",
     "text": [
      "5\n",
      "10\n"
     ]
    }
   ],
   "source": [
    "#1046\n",
    "print(int(input())<<1)"
   ]
  },
  {
   "cell_type": "code",
   "execution_count": 40,
   "id": "ce02a5d4",
   "metadata": {},
   "outputs": [
    {
     "name": "stdout",
     "output_type": "stream",
     "text": [
      "1 3\n",
      "8\n"
     ]
    }
   ],
   "source": [
    "#1047\n",
    "a, b=input().split()\n",
    "print(int(a)<<int(b))"
   ]
  },
  {
   "cell_type": "code",
   "execution_count": 41,
   "id": "98c3ab4c",
   "metadata": {},
   "outputs": [
    {
     "name": "stdout",
     "output_type": "stream",
     "text": [
      "1 9\n",
      "True\n"
     ]
    }
   ],
   "source": [
    "#1048\n",
    "a, b=input().split()\n",
    "print(int(a)<int(b))"
   ]
  },
  {
   "cell_type": "code",
   "execution_count": 42,
   "id": "74283aea",
   "metadata": {},
   "outputs": [
    {
     "name": "stdout",
     "output_type": "stream",
     "text": [
      "0 0\n",
      "True\n"
     ]
    }
   ],
   "source": [
    "#1049\n",
    "a, b=input().split()\n",
    "print(int(a)==int(b))"
   ]
  },
  {
   "cell_type": "code",
   "execution_count": 43,
   "id": "6a99cbe1",
   "metadata": {},
   "outputs": [
    {
     "name": "stdout",
     "output_type": "stream",
     "text": [
      "0 -1\n",
      "False\n"
     ]
    }
   ],
   "source": [
    "#1050\n",
    "a, b=input().split()\n",
    "print(int(a)<=int(b))"
   ]
  }
 ],
 "metadata": {
  "kernelspec": {
   "display_name": "Python 3",
   "language": "python",
   "name": "python3"
  }
 },
 "nbformat": 4,
 "nbformat_minor": 5
}
