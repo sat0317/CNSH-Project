{
  "nbformat": 4,
  "nbformat_minor": 0,
  "metadata": {
    "colab": {
      "name": "3306박정식 - 05-과제(List+반복문).ipynb",
      "provenance": [],
      "collapsed_sections": []
    },
    "kernelspec": {
      "name": "python3",
      "display_name": "Python 3"
    },
    "language_info": {
      "name": "python"
    }
  },
  "cells": [
    {
      "cell_type": "markdown",
      "source": [
        "# 리스트와 반복문 익히기"
      ],
      "metadata": {
        "id": "LV3ZLLfrP2Lv"
      }
    },
    {
      "cell_type": "code",
      "execution_count": null,
      "metadata": {
        "id": "P8LSS-DhPf71",
        "colab": {
          "base_uri": "https://localhost:8080/"
        },
        "outputId": "364c48f2-eb20-4b33-93c3-a654b7f09b11"
      },
      "outputs": [
        {
          "output_type": "stream",
          "name": "stdout",
          "text": [
            "ID: test\n",
            "test님, 가입을 환영합니다\n"
          ]
        }
      ],
      "source": [
        "print(input('ID: ')+'님, 가입을 환영합니다')"
      ]
    },
    {
      "cell_type": "code",
      "source": [
        "for i in [1, 2, 3, 4, 5]:\n",
        "  print(\"hello\")"
      ],
      "metadata": {
        "colab": {
          "base_uri": "https://localhost:8080/"
        },
        "id": "qC7roaUEnWIZ",
        "outputId": "56284ac2-f869-4450-ff04-4411ccd7ff8b"
      },
      "execution_count": null,
      "outputs": [
        {
          "output_type": "stream",
          "name": "stdout",
          "text": [
            "hello\n",
            "hello\n",
            "hello\n",
            "hello\n",
            "hello\n"
          ]
        }
      ]
    },
    {
      "cell_type": "code",
      "source": [
        "for a in range(1, 20):\n",
        "  print(a, \"times\")"
      ],
      "metadata": {
        "colab": {
          "base_uri": "https://localhost:8080/"
        },
        "id": "MSdFTYO4o_he",
        "outputId": "3c2b05cc-4625-489d-c867-2145872f5270"
      },
      "execution_count": null,
      "outputs": [
        {
          "output_type": "stream",
          "name": "stdout",
          "text": [
            "1 times\n",
            "2 times\n",
            "3 times\n",
            "4 times\n",
            "5 times\n",
            "6 times\n",
            "7 times\n",
            "8 times\n",
            "9 times\n",
            "10 times\n",
            "11 times\n",
            "12 times\n",
            "13 times\n",
            "14 times\n",
            "15 times\n",
            "16 times\n",
            "17 times\n",
            "18 times\n",
            "19 times\n"
          ]
        }
      ]
    },
    {
      "cell_type": "code",
      "source": [
        "res=0\n",
        "for i in range(1, 51):\n",
        "  res+=i\n",
        "print(res)"
      ],
      "metadata": {
        "colab": {
          "base_uri": "https://localhost:8080/"
        },
        "id": "Uq43O2w-qLme",
        "outputId": "6cefe282-b0e6-418b-a6ef-1ab8e9e15ae2"
      },
      "execution_count": null,
      "outputs": [
        {
          "output_type": "stream",
          "name": "stdout",
          "text": [
            "1275\n"
          ]
        }
      ]
    },
    {
      "cell_type": "code",
      "source": [
        "res=1\n",
        "for i in range(1, 51):\n",
        "  res*=i\n",
        "print(res)"
      ],
      "metadata": {
        "colab": {
          "base_uri": "https://localhost:8080/"
        },
        "id": "l3Y-4hZYqjMC",
        "outputId": "d2260329-d8f3-4364-d4d9-6ffa689d6aae"
      },
      "execution_count": null,
      "outputs": [
        {
          "output_type": "stream",
          "name": "stdout",
          "text": [
            "30414093201713378043612608166064768844377641568960512000000000000\n"
          ]
        }
      ]
    },
    {
      "cell_type": "code",
      "source": [
        "num=int(input('단: '))\n",
        "for i in range(1, 10):\n",
        "  print(num, '×', i, '=', num*i)"
      ],
      "metadata": {
        "colab": {
          "base_uri": "https://localhost:8080/"
        },
        "id": "sN1_Q2A8qnLd",
        "outputId": "316dbbbe-b6fd-4641-8898-e7c91fc53f68"
      },
      "execution_count": null,
      "outputs": [
        {
          "output_type": "stream",
          "name": "stdout",
          "text": [
            "단: 4\n",
            "4 × 1 = 4\n",
            "4 × 2 = 8\n",
            "4 × 3 = 12\n",
            "4 × 4 = 16\n",
            "4 × 5 = 20\n",
            "4 × 6 = 24\n",
            "4 × 7 = 28\n",
            "4 × 8 = 32\n",
            "4 × 9 = 36\n"
          ]
        }
      ]
    },
    {
      "cell_type": "code",
      "source": [
        "abc=[1, 2, 3, 4, 5]\n",
        "print(type(abc), abc, len(abc))"
      ],
      "metadata": {
        "colab": {
          "base_uri": "https://localhost:8080/"
        },
        "id": "BHfI3Sn3sHG1",
        "outputId": "10efc72e-35b3-4fba-c041-74888620a17c"
      },
      "execution_count": null,
      "outputs": [
        {
          "output_type": "stream",
          "name": "stdout",
          "text": [
            "<class 'list'> [1, 2, 3, 4, 5] 5\n"
          ]
        }
      ]
    },
    {
      "cell_type": "code",
      "source": [
        "spe=[1, 2, 3, 4, 5, 6, 7, 8, 9, 10, 11, 12]\n",
        "print('3월 지출 변경 전', spe)\n",
        "spe[2]+=10\n",
        "print('3월 지출 변경 후', spe)"
      ],
      "metadata": {
        "colab": {
          "base_uri": "https://localhost:8080/"
        },
        "id": "2_I781HztAoi",
        "outputId": "41070d7c-8911-4681-cedd-b9d0ba812351"
      },
      "execution_count": null,
      "outputs": [
        {
          "output_type": "stream",
          "name": "stdout",
          "text": [
            "3월 지출 변경 전 [1, 2, 3, 4, 5, 6, 7, 8, 9, 10, 11, 12]\n",
            "3월 지출 변경 후 [1, 2, 13, 4, 5, 6, 7, 8, 9, 10, 11, 12]\n"
          ]
        }
      ]
    },
    {
      "cell_type": "code",
      "source": [
        "food=[]\n",
        "food.append(\"고구마\")\n",
        "food.append(\"오리고기\")\n",
        "food.append(\"호랑이\")\n",
        "food"
      ],
      "metadata": {
        "colab": {
          "base_uri": "https://localhost:8080/"
        },
        "id": "UTcyRVWTtasP",
        "outputId": "4777a426-fbad-471c-f750-e738d55db535"
      },
      "execution_count": null,
      "outputs": [
        {
          "output_type": "execute_result",
          "data": {
            "text/plain": [
              "['고구마', '오리고기', '호랑이']"
            ]
          },
          "metadata": {},
          "execution_count": 13
        }
      ]
    },
    {
      "cell_type": "code",
      "source": [
        ""
      ],
      "metadata": {
        "id": "sY5MlduItpfs"
      },
      "execution_count": null,
      "outputs": []
    }
  ]
}